{
 "cells": [
  {
   "cell_type": "markdown",
   "metadata": {},
   "source": [
    "## Ejercicio 1\n",
    "\n",
    "Crea una función que calcule y devuelva el área de un círculo."
   ]
  },
  {
   "cell_type": "code",
   "execution_count": null,
   "metadata": {},
   "outputs": [],
   "source": []
  },
  {
   "cell_type": "code",
   "execution_count": null,
   "metadata": {},
   "outputs": [],
   "source": [
    "import math\n",
    "\n",
    "def area_circulo(radio):\n",
    "    area = math.pi * radio ** 2\n",
    "    return area\n",
    "\n",
    "print(round(area_circulo(10), 2))"
   ]
  },
  {
   "cell_type": "markdown",
   "metadata": {},
   "source": [
    "## Ejercicio 1a\n",
    "\n",
    "Crea ahora dos programas principales diferentes en los que se pueda utilizar dicha función. Por ejemplo:\n",
    "\n",
    "- Programa que pida al usuario el radio y le diga el área del círculo\n",
    "- Programa para una empresa que crea posavasos circulares, para calcular el material que le va a hacer falta, pregunta al usuario cuántos posavasos quiere y cuál es su radio y calcula el área total de todos los posavasos. El usuario puede elegir varios tipos de posavasos y diferente cantidad para cada uno de ellos."
   ]
  },
  {
   "cell_type": "code",
   "execution_count": null,
   "metadata": {},
   "outputs": [],
   "source": [
    "import math\n",
    "\n",
    "def area_circulo(radio):\n",
    "    area = math.pi * radio ** 2\n",
    "    return area\n",
    "\n",
    "\n",
    "radio = float(input(\"Introduce o radio do círculo: \"))\n",
    "print(round(area_circulo(radio), 2))"
   ]
  },
  {
   "cell_type": "code",
   "execution_count": null,
   "metadata": {},
   "outputs": [],
   "source": [
    "import math\n",
    "\n",
    "def area_circulo(radio):\n",
    "    area = math.pi * radio ** 2\n",
    "    return area\n",
    "\n",
    "resposta = \"s\"\n",
    "suma = 0\n",
    "\n",
    "while resposta != \"n\":\n",
    "    radio = float(input(\"Introduce o radio do posavasos: \"))\n",
    "    cantidade = int(input(\"Introduce a cantidade de posavasos: \"))\n",
    "    suma += area_circulo(radio) * cantidade\n",
    "    resposta = input(\"Queres introducir máis posavasos (s/n)? \")\n",
    "\n",
    "print(\"A área total é de \", round(suma, 2), \"cm\\u00B2\")"
   ]
  },
  {
   "cell_type": "markdown",
   "metadata": {},
   "source": [
    "## Ejercicio 2\n",
    "\n",
    "Crea una función que reciba un número entero y muestre por pantalla un cuadrado de asteriscos con tantos asteriscos como se le haya indicado. Por ejemplo, si se le pasa el valor 3, muestra:\n",
    "```python\n",
    "***\n",
    "***\n",
    "***\n",
    "```"
   ]
  },
  {
   "cell_type": "code",
   "execution_count": 1,
   "metadata": {},
   "outputs": [
    {
     "name": "stdout",
     "output_type": "stream",
     "text": [
      "*****\n",
      "*****\n",
      "*****\n",
      "*****\n",
      "*****\n"
     ]
    }
   ],
   "source": [
    "def cuadrado_asteriscos(lado):\n",
    "    for i in range(lado):\n",
    "        for j in range(lado):\n",
    "            print(\"*\", end=\"\")\n",
    "        print()\n",
    "\n",
    "cuadrado_asteriscos(5)"
   ]
  },
  {
   "cell_type": "code",
   "execution_count": 2,
   "metadata": {},
   "outputs": [
    {
     "name": "stdout",
     "output_type": "stream",
     "text": [
      "*****\n",
      "*****\n",
      "*****\n",
      "*****\n",
      "*****\n"
     ]
    }
   ],
   "source": [
    "def cuadrado_asteriscos(lado):\n",
    "    for i in range(lado):\n",
    "        print(\"*\" * lado)\n",
    "\n",
    "cuadrado_asteriscos(5)"
   ]
  },
  {
   "cell_type": "markdown",
   "metadata": {},
   "source": [
    "## Ejercicio 3\n",
    "\n",
    "Crea una función a la que se le pase la edad de un alumno y devuelva si es o no mayor de edad (como un valor booleano)."
   ]
  },
  {
   "cell_type": "code",
   "execution_count": null,
   "metadata": {},
   "outputs": [
    {
     "name": "stdout",
     "output_type": "stream",
     "text": [
      "9.0\n"
     ]
    }
   ],
   "source": [
    "my_float_variable = float(input(\"Dime la base: \"))\n",
    "exponente = float(input(\"Dime el exponente: \"))\n",
    "print(round(my_float_variable, 2) ** exponente)\n",
    "\n",
    "\n"
   ]
  },
  {
   "cell_type": "code",
   "execution_count": null,
   "metadata": {},
   "outputs": [
    {
     "name": "stdout",
     "output_type": "stream",
     "text": [
      "9.0\n"
     ]
    }
   ],
   "source": [
    "my_float_variable = float(input(\"Dime la base: \"))\n",
    "exponente = float(input(\"Dime el exponente: \"))\n",
    "print(round(my_float_variable, 2) ** exponente)\n",
    "\n",
    "\n"
   ]
  },
  {
   "cell_type": "code",
   "execution_count": null,
   "metadata": {},
   "outputs": [
    {
     "name": "stdout",
     "output_type": "stream",
     "text": [
      "9.0\n"
     ]
    }
   ],
   "source": [
    "my_float_variable = float(input(\"Dime la base: \"))\n",
    "exponente = float(input(\"Dime el exponente: \"))\n",
    "print(round(my_float_variable, 2) ** exponente)\n",
    "\n",
    "\n"
   ]
  },
  {
   "cell_type": "code",
   "execution_count": null,
   "metadata": {},
   "outputs": [
    {
     "name": "stdout",
     "output_type": "stream",
     "text": [
      "9.0\n"
     ]
    }
   ],
   "source": [
    "my_float_variable = float(input(\"Dime la base: \"))\n",
    "exponente = float(input(\"Dime el exponente: \"))\n",
    "print(round(my_float_variable, 2) ** exponente)\n",
    "\n",
    "\n"
   ]
  },
  {
   "cell_type": "code",
   "execution_count": null,
   "metadata": {},
   "outputs": [],
   "source": [
    "def es_mayor_edad(edad):\n",
    "    if edad >= 18:\n",
    "        return True\n",
    "    else:\n",
    "        return False\n",
    "    \n",
    "print(es_mayor_edad(20))\n",
    "print(es_mayor_edad(18))\n",
    "print(es_mayor_edad(5))"
   ]
  },
  {
   "cell_type": "code",
   "execution_count": null,
   "metadata": {},
   "outputs": [],
   "source": [
    "def es_mayor_edad(edad):\n",
    "    if edad >= 18:\n",
    "        return True\n",
    "    return False\n",
    "\n",
    "edad = int(input(\"¿Cuál es tu edad? \"))\n",
    "if es_mayor_edad(edad): #es_mayor_edad(edad) == True\n",
    "    print(\"Eres mayor de edad\")\n",
    "else:\n",
    "    print(\"Eres menor de edad\")\n",
    "\n",
    "print(\"Eres mayor de edad\" if es_mayor_edad(edad) else \"Eres menor de edad\")\n",
    "\n",
    "print(\"Eres\", \"mayor\" if es_mayor_edad(edad) else \"menor\",  \"de edad\")"
   ]
  },
  {
   "cell_type": "code",
   "execution_count": null,
   "metadata": {},
   "outputs": [],
   "source": [
    "def es_mayor_edad(edad):\n",
    "    return edad >= 18"
   ]
  },
  {
   "cell_type": "markdown",
   "metadata": {},
   "source": [
    "## Ejercicio 4\n",
    "\n",
    "Crea una función que no reciba parámetros y muestre por pantalla el siguiente menú:\n",
    "\n",
    "```\n",
    "    1. Saludar\n",
    "    2. Despedir\n",
    "    3. Salir\n",
    "    Escoge una opción: \n",
    "```\n",
    "\n",
    "Debe devolver el valor escogido por el usuario.\n",
    "\n",
    "El programa principal debe llamar a la función y ejecutar la opción que haya escogido el usuario.\n"
   ]
  },
  {
   "cell_type": "code",
   "execution_count": null,
   "metadata": {},
   "outputs": [],
   "source": [
    "def escoller_opcion():\n",
    "    print('''\n",
    "        1. Saludar\n",
    "        2. Despedir\n",
    "        3. Salir''')\n",
    "    return int(input(\"Escoge una opción: \"))"
   ]
  },
  {
   "cell_type": "code",
   "execution_count": null,
   "metadata": {},
   "outputs": [],
   "source": [
    "def escoller_opcion():\n",
    "    print('''\n",
    "        1. Saludar\n",
    "        2. Despedir\n",
    "        3. Salir''')\n",
    "    opcion = int(input(\"Escoge una opción: \"))\n",
    "    return opcion\n",
    "\n",
    "match escoller_opcion():\n",
    "    case 1:\n",
    "        print(\"Ola\")\n",
    "    case 2:\n",
    "        print(\"Adeus\")\n",
    "    case 3:\n",
    "        print(\"Saír\")\n",
    "    case _:\n",
    "        print(\"Opción incorrecta\")"
   ]
  },
  {
   "cell_type": "code",
   "execution_count": null,
   "metadata": {},
   "outputs": [],
   "source": [
    "def escoller_opcion():\n",
    "    print('''\n",
    "        1. Saludar\n",
    "        2. Despedir\n",
    "        3. Salir''')\n",
    "    opcion = int(input(\"Escoge una opción: \"))\n",
    "    return opcion\n",
    "\n",
    "opcion = escoller_opcion():\n",
    "if opcion == 1:\n",
    "    print(\"Ola\")\n",
    "elif opcion == 2:\n",
    "    print(\"Adeus\")\n",
    "elif opcion == 3:\n",
    "    print(\"Saír\")\n",
    "else:\n",
    "    print(\"Opción incorrecta\")"
   ]
  },
  {
   "cell_type": "markdown",
   "metadata": {},
   "source": [
    "# Ejercicio 5\n",
    "\n",
    "Crea una función en Python que calcule e imprima el volumen y el área del cono.\n",
    "\n",
    "Modifícala para que sean dos funciones, una que devuelva el volumen y otra el área del cono.\n",
    "\n",
    "**AVANZADO** Modifícala para que sea una función que devuelve dos valores."
   ]
  },
  {
   "cell_type": "code",
   "execution_count": null,
   "metadata": {},
   "outputs": [],
   "source": [
    "import math\n",
    "\n",
    "def volumen_area_cono(h, r):\n",
    "    area_base = math.pi * (r ** 2)\n",
    "    volumen = area_base * h / 3\n",
    "    generatriz = math.hypot(r, h)\n",
    "    area_lateral = math.pi * r * generatriz\n",
    "    area = area_base + area_lateral\n",
    "    print(\"volumen\", volumen, \"area\", area)\n",
    "\n",
    "volumen_area_cono(4, 7)"
   ]
  },
  {
   "cell_type": "code",
   "execution_count": null,
   "metadata": {},
   "outputs": [],
   "source": [
    "import math\n",
    "\n",
    "def volumen_cono(h, r):\n",
    "    area_base = math.pi * (r ** 2)\n",
    "    volumen = area_base * h / 3\n",
    "    return volumen\n",
    "\n",
    "def area_cono(h, r):\n",
    "    generatriz = math.hypot(r, h)\n",
    "    area_base = math.pi * (r ** 2)\n",
    "    area_lateral = math.pi * r * generatriz\n",
    "    area = area_base + area_lateral\n",
    "    return area\n",
    "\n",
    "print(\"Volumen: \", volumen_cono(3, 7), \"Área: \", area_cono(3, 7))"
   ]
  },
  {
   "cell_type": "code",
   "execution_count": null,
   "metadata": {},
   "outputs": [],
   "source": [
    "def volumen_area_cono(h, r):\n",
    "    area_base = math.pi * (r ** 2)\n",
    "    volumen = area_base * h / 3\n",
    "    generatriz = math.hypot(r, h)\n",
    "    area_lateral = math.pi * r * generatriz\n",
    "    area = area_base + area_lateral\n",
    "    return volumen, area\n",
    "\n",
    "v, a = volumen_area_cono(4, 7)\n",
    "\n",
    "print(\"El área es\", round(a, 2), \"y el volumen es\", round(v, 2))\n",
    "print(f\"El área es {round(a, 2)} y el volumen es {round(v, 2)}\")"
   ]
  },
  {
   "cell_type": "markdown",
   "metadata": {},
   "source": [
    "# Ejercicio 6\n",
    "\n",
    "Crea una función en Python que indique si un año es o no bisiesto. Devolverá `True` cuando\n",
    "lo es y `False` en caso contrario. Crea un programa principal que solicite el año al usuario y\n",
    "haga uso de la función."
   ]
  },
  {
   "cell_type": "code",
   "execution_count": null,
   "metadata": {},
   "outputs": [],
   "source": [
    "def es_bisiesto(año):\n",
    "    if (año % 4 != 0):\n",
    "        return False\n",
    "    elif (año % 100 != 0):\n",
    "        return True\n",
    "    elif (año % 400 != 0):\n",
    "        return False\n",
    "    else:\n",
    "        return True\n",
    "\n",
    "año = int(input(\"Dime un año:\"))\n",
    "if es_bisiesto(año):\n",
    "    print(\"Es bisiesto\")\n",
    "else:\n",
    "    print(\"No es bisiesto\")"
   ]
  },
  {
   "cell_type": "code",
   "execution_count": null,
   "metadata": {},
   "outputs": [],
   "source": [
    "def es_bisiesto(año: int) -> bool:\n",
    "    return not (año % 4 != 0 or (año % 100 == 0 and año % 400 != 0))\n",
    "\n",
    "print(es_bisiesto(\"a\"))"
   ]
  },
  {
   "cell_type": "markdown",
   "metadata": {},
   "source": [
    "# Ejercicio 7\n",
    "\n",
    "Utiliza la función anterior para crear un programa que pida al usuario un\n",
    "año mínimo y uno máximo y devuelva los años bisiestos que se encuentren entre ambos.\n",
    "\n",
    "**AVANZADO**: Crea con esto otra función, que haga uso de la del Ejercicio 6, a la que se le pasen los años de inicio y fin. En el caso de que no se le pase ningún año de fin tomará 2023 como valor por defecto.\n"
   ]
  },
  {
   "cell_type": "code",
   "execution_count": null,
   "metadata": {},
   "outputs": [],
   "source": [
    "def es_bisiesto(año):\n",
    "    if (año % 4 != 0):\n",
    "        return False\n",
    "    elif (año % 100 != 0):\n",
    "        return True\n",
    "    elif (año % 400 != 0):\n",
    "        return False\n",
    "    else:\n",
    "        return True\n",
    "    \n",
    "\n",
    "    \n",
    "anho_inicio = int(input(\"Escribe el año de inicio:\"))\n",
    "anho_fin = int(input(\"Escribe el año de fin:\"))\n",
    "\n",
    "print(\"Estos son los años bisiestos en ese rango\")\n",
    "\n",
    "for anho in range(anho_inicio, anho_fin + 1):\n",
    "    if es_bisiesto(anho):\n",
    "        print(anho)"
   ]
  },
  {
   "cell_type": "code",
   "execution_count": 3,
   "metadata": {},
   "outputs": [],
   "source": [
    "def calculate_power():\n",
    "    \"\"\"\n",
    "    Calculates the power of a base number raised to an exponent.\n",
    "\n",
    "    This function prompts the user to input a base number and an exponent,\n",
    "    then calculates and prints the result of the base raised to the power\n",
    "    of the exponent. The base number is rounded to two decimal places\n",
    "    before the calculation.\n",
    "\n",
    "    Parameters:\n",
    "    None\n",
    "\n",
    "    Returns:\n",
    "    None\n",
    "    \"\"\"\n",
    "    my_float_variable = float(input(\"Dime la base: \"))\n",
    "    exponente = float(input(\"Dime el exponente: \"))\n",
    "    print(round(my_float_variable, 2) ** exponente)"
   ]
  },
  {
   "cell_type": "code",
   "execution_count": 4,
   "metadata": {},
   "outputs": [
    {
     "name": "stdout",
     "output_type": "stream",
     "text": [
      "Bienvenido a la calculadora de potencias!\n",
      "64.0\n",
      "125.0\n",
      "¡Gracias por usar la calculadora de potencias!\n"
     ]
    }
   ],
   "source": [
    "def calculate_power():\n",
    "    \"\"\"\n",
    "    Calculates the power of a base number raised to an exponent.\n",
    "\n",
    "    This function prompts the user to input a base number and an exponent,\n",
    "    then calculates and prints the result of the base raised to the power\n",
    "    of the exponent. The base number is rounded to two decimal places\n",
    "    before the calculation.\n",
    "\n",
    "    Parameters:\n",
    "    None\n",
    "\n",
    "    Returns:\n",
    "    None\n",
    "    \"\"\"\n",
    "    my_float_variable = float(input(\"Dime la base: \"))\n",
    "    exponente = float(input(\"Dime el exponente: \"))\n",
    "    print(round(my_float_variable, 2) ** exponente)\n",
    "\n",
    "def main():\n",
    "    print(\"Bienvenido a la calculadora de potencias!\")\n",
    "    while True:\n",
    "        calculate_power()\n",
    "\n",
    "        continue_calc = input(\"¿Quieres calcular otra potencia? (s/n): \").lower()\n",
    "        if continue_calc != 's':\n",
    "            break\n",
    "    print(\"¡Gracias por usar la calculadora de potencias!\")\n",
    "\n",
    "if __name__ == \"__main__\":\n",
    "    main()"
   ]
  },
  {
   "cell_type": "code",
   "execution_count": null,
   "metadata": {},
   "outputs": [],
   "source": []
  },
  {
   "cell_type": "markdown",
   "metadata": {},
   "source": [
    "# Ejercicio 8\n",
    "\n",
    "Crea una función en Python que determine si un número es, o no, primo. La función\n",
    "devolverá `True` cuando el número sea primo y `False`, en caso contrario.\n"
   ]
  },
  {
   "cell_type": "code",
   "execution_count": null,
   "metadata": {},
   "outputs": [],
   "source": [
    "def es_primo(numero: int) -> bool:\n",
    "    primo = True\n",
    "    for i in range(2, numero):\n",
    "        if numero % i == 0: #É divisible\n",
    "            primo = False\n",
    "            break\n",
    "    return primo"
   ]
  },
  {
   "cell_type": "code",
   "execution_count": null,
   "metadata": {},
   "outputs": [],
   "source": [
    "def es_primo(numero: int) -> bool:\n",
    "    for i in range(2, numero):\n",
    "        if numero % i == 0: #É divisible\n",
    "            return False\n",
    "    return True"
   ]
  },
  {
   "cell_type": "markdown",
   "metadata": {},
   "source": [
    "# Ejercicio 9\n",
    "\n",
    "Utiliza la función anterior para crear un programa que pida al usuario un número y devuelva los números primos menores que ese número."
   ]
  },
  {
   "cell_type": "code",
   "execution_count": null,
   "metadata": {},
   "outputs": [],
   "source": [
    "def es_primo(numero: int) -> bool:\n",
    "    for i in range(2, numero):\n",
    "        if numero % i == 0: #É divisible\n",
    "            return False\n",
    "    return True\n",
    "\n",
    "numero = int(input(\"Dime un número: \"))\n",
    "for i in range(1, numero):\n",
    "    if es_primo(i):\n",
    "        print(i)"
   ]
  },
  {
   "cell_type": "markdown",
   "metadata": {},
   "source": [
    "# Ejercicio 10\n",
    "\n",
    "Crea una función en Python que reciba un número y genere una pirámide como la siguiente\n",
    "(esta sería la generada cuando se recibe el número 5):\n",
    "```python\n",
    "    1\n",
    "   212\n",
    "  32123\n",
    " 4321234\n",
    "543212345\n",
    "```\n",
    "Paso 1\n",
    "```python\n",
    "1\n",
    "21\n",
    "321\n",
    "4321\n",
    "54321\n",
    "```\n",
    "Paso 2\n",
    "```python\n",
    "    1\n",
    "   21\n",
    "  321\n",
    " 4321\n",
    "54321\n",
    "```\n",
    "Paso 3\n",
    "```python\n",
    "    1\n",
    "   212\n",
    "  32123\n",
    " 4321234\n",
    "543212345\n",
    "```"
   ]
  },
  {
   "cell_type": "code",
   "execution_count": 5,
   "metadata": {},
   "outputs": [
    {
     "name": "stdout",
     "output_type": "stream",
     "text": [
      "\n",
      "Pyramid Pattern Menu:\n",
      "1. Simple Descending Pyramid\n",
      "2. Centered Descending Pyramid\n",
      "3. Centered Symmetric Pyramid\n",
      "4. Exit\n",
      "\n",
      "Simple Descending Pyramid:\n",
      "1\n",
      "21\n",
      "321\n",
      "4321\n",
      "54321\n",
      "\n",
      "Pyramid Pattern Menu:\n",
      "1. Simple Descending Pyramid\n",
      "2. Centered Descending Pyramid\n",
      "3. Centered Symmetric Pyramid\n",
      "4. Exit\n",
      "Thank you for using the Pyramid Pattern Generator!\n"
     ]
    }
   ],
   "source": [
    "def print_pyramid_1(height):\n",
    "    for i in range(1, height + 1):\n",
    "        for j in range(i, 0, -1):\n",
    "            print(j, end=\"\")\n",
    "        print()\n",
    "\n",
    "def print_pyramid_2(height):\n",
    "    for i in range(1, height + 1):\n",
    "        spaces = \" \" * (height - i)\n",
    "        numbers = \"\".join(str(j) for j in range(i, 0, -1))\n",
    "        print(f\"{spaces}{numbers}\")\n",
    "\n",
    "def print_pyramid_3(height):\n",
    "    for i in range(1, height + 1):\n",
    "        spaces = \" \" * (height - i)\n",
    "        left_numbers = \"\".join(str(j) for j in range(i, 0, -1))\n",
    "        right_numbers = \"\".join(str(j) for j in range(2, i + 1))\n",
    "        print(f\"{spaces}{left_numbers}{right_numbers}\")\n",
    "\n",
    "def display_menu():\n",
    "    print(\"\\nPyramid Pattern Menu:\")\n",
    "    print(\"1. Simple Descending Pyramid\")\n",
    "    print(\"2. Centered Descending Pyramid\")\n",
    "    print(\"3. Centered Symmetric Pyramid\")\n",
    "    print(\"4. Exit\")\n",
    "    return input(\"Choose a pattern (1-4): \")\n",
    "\n",
    "def main():\n",
    "    while True:\n",
    "        choice = display_menu()\n",
    "        match choice:\n",
    "            case \"1\":\n",
    "                height = int(input(\"Enter pyramid height: \"))\n",
    "                print(\"\\nSimple Descending Pyramid:\")\n",
    "                print_pyramid_1(height)\n",
    "            case \"2\":\n",
    "                height = int(input(\"Enter pyramid height: \"))\n",
    "                print(\"\\nCentered Descending Pyramid:\")\n",
    "                print_pyramid_2(height)\n",
    "            case \"3\":\n",
    "                height = int(input(\"Enter pyramid height: \"))\n",
    "                print(\"\\nCentered Symmetric Pyramid:\")\n",
    "                print_pyramid_3(height)\n",
    "            case \"4\":\n",
    "                print(\"Thank you for using the Pyramid Pattern Generator!\")\n",
    "                break\n",
    "            case _:\n",
    "                print(\"Invalid choice. Please select 1, 2, 3, or 4.\")\n",
    "main()\n"
   ]
  },
  {
   "cell_type": "code",
   "execution_count": null,
   "metadata": {},
   "outputs": [
    {
     "name": "stdout",
     "output_type": "stream",
     "text": [
      "9.0\n"
     ]
    }
   ],
   "source": [
    "my_float_variable = float(input(\"Dime la base: \"))\n",
    "exponente = float(input(\"Dime el exponente: \"))\n",
    "print(round(my_float_variable, 2) ** exponente)\n",
    "\n",
    "\n"
   ]
  },
  {
   "cell_type": "code",
   "execution_count": null,
   "metadata": {},
   "outputs": [],
   "source": []
  },
  {
   "cell_type": "code",
   "execution_count": null,
   "metadata": {},
   "outputs": [
    {
     "name": "stdout",
     "output_type": "stream",
     "text": [
      "9.0\n"
     ]
    }
   ],
   "source": [
    "my_float_variable = float(input(\"Dime la base: \"))\n",
    "exponente = float(input(\"Dime el exponente: \"))\n",
    "print(round(my_float_variable, 2) ** exponente)\n",
    "\n",
    "\n"
   ]
  },
  {
   "cell_type": "code",
   "execution_count": null,
   "metadata": {},
   "outputs": [
    {
     "name": "stdout",
     "output_type": "stream",
     "text": [
      "    1\n",
      "   212\n",
      "  32123\n",
      " 4321234\n",
      "543212345\n"
     ]
    }
   ],
   "source": [
    "def piramide(altura: int) -> None:\n",
    "    for fila in range(1, altura + 1): #Filas\n",
    "        cantidad_espacios = altura - fila\n",
    "        print(\" \" * cantidad_espacios, end=\"\") #Espacios iniciales\n",
    "        for columna in range(fila, 0, -1): #Columnas 1ª parte\n",
    "            print(columna, end=\"\") \n",
    "        for columna in range(2, fila + 1): #Columnas 2ª parte\n",
    "            print(columna, end=\"\")\n",
    "        print()\n",
    "\n",
    "piramide(5)"
   ]
  }
 ],
 "metadata": {
  "kernelspec": {
   "display_name": "Python 3",
   "language": "python",
   "name": "python3"
  },
  "language_info": {
   "codemirror_mode": {
    "name": "ipython",
    "version": 3
   },
   "file_extension": ".py",
   "mimetype": "text/x-python",
   "name": "python",
   "nbconvert_exporter": "python",
   "pygments_lexer": "ipython3",
   "version": "3.13.1"
  },
  "orig_nbformat": 4
 },
 "nbformat": 4,
 "nbformat_minor": 2
}
