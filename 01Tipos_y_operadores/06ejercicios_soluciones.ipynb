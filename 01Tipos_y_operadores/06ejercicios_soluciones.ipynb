{
 "cells": [
  {
   "cell_type": "markdown",
   "metadata": {},
   "source": [
    "# Ejercicios UD1\n",
    "\n",
    "## Ejercicio 1\n",
    "\n",
    "Crea un programa que pida un número al usuario y muestre su doble.\n"
   ]
  },
  {
   "cell_type": "code",
   "execution_count": 1,
   "metadata": {},
   "outputs": [
    {
     "name": "stdout",
     "output_type": "stream",
     "text": [
      "El doble de 2 es 4\n"
     ]
    }
   ],
   "source": [
    "numero = int(input(\"Escribe un número:\"))\n",
    "doble = numero * 2\n",
    "print(\"El doble de\", numero, \"es\", doble)"
   ]
  },
  {
   "cell_type": "code",
   "execution_count": 2,
   "metadata": {},
   "outputs": [
    {
     "name": "stdout",
     "output_type": "stream",
     "text": [
      "El doble de 2 es 4\n"
     ]
    }
   ],
   "source": [
    "numero = int(input(\"Escribe un número:\"))\n",
    "print(\"El doble de\", numero, \"es\", numero * 2)"
   ]
  },
  {
   "cell_type": "markdown",
   "metadata": {},
   "source": [
    "\n",
    "## Ejercicio 2\n",
    "\n",
    "Crea un programa que pida el usuario la base y exponente de una potencia y calcule su resultado.\n"
   ]
  },
  {
   "cell_type": "code",
   "execution_count": null,
   "metadata": {},
   "outputs": [],
   "source": [
    "print(\"Vamos a calcular una potencia\")\n",
    "base = float(input(\"Base: \"))\n",
    "exponente = float(input(\"Exponente: \"))\n",
    "potencia = base ** exponente\n",
    "print(\"El resultado es\", potencia)"
   ]
  },
  {
   "cell_type": "markdown",
   "metadata": {},
   "source": [
    "\n",
    "## Ejercicio 3\n",
    "\n",
    "Busca en la documentación oficial de Python qué realiza y cómo se utiliza la función `round()` (https://docs.python.org/3/library/functions.html). Prueba algunos ejemplos con diferentes números. Utilízala para redondear los resultados de los siguientes ejercicios.\n"
   ]
  },
  {
   "cell_type": "code",
   "execution_count": 5,
   "metadata": {},
   "outputs": [
    {
     "name": "stdout",
     "output_type": "stream",
     "text": [
      "3\n",
      "3.14\n",
      "3.14\n",
      "3.14\n"
     ]
    }
   ],
   "source": [
    "numero = 3.1416\n",
    "print(round(numero))\n",
    "print(round(numero, 2))\n",
    "print(round(numero, ndigits=2))\n",
    "print(round(ndigits=2, number=numero))"
   ]
  },
  {
   "cell_type": "markdown",
   "metadata": {},
   "source": [
    "\n",
    "## Ejercicio 4\n",
    "\n",
    "Crea un programa que dado el nombre de una persona y su peso y altura en kg y cm, imprime su peso en libras, su altura en pies y su IMC (Índice de Masa Corporal). "
   ]
  },
  {
   "cell_type": "code",
   "execution_count": null,
   "metadata": {},
   "outputs": [],
   "source": [
    "#Pedir os datos\n",
    "print(\"Vamos a calcular tu IMC y convertir de unidades tu peso y altura\")\n",
    "nome = input(\"Dime tu nombre: \")\n",
    "altura_cm = int(input(\"Escribe tu altura en cm: \"))\n",
    "peso_kg = float(input(\"Escribe tu peso en kg: \"))\n",
    "#Conversión a libras y pies\n",
    "KG_A_LIBRAS = 2.20462262\n",
    "CM_A_PIES = 0.0328084\n",
    "peso_libras = peso_kg * KG_A_LIBRAS\n",
    "altura_pies = altura_cm * CM_A_PIES\n",
    "#Cálculo IMC\n",
    "altura_m = altura_cm / 100\n",
    "imc = peso_kg / (altura_m ** 2)\n",
    "#Resultados\n",
    "print(\"Tu altura en pies es\", round(altura_pies, 2))\n",
    "print(\"Tu peso en libras es\", round(peso_libras, 2))\n",
    "print(\"Tu IMC es\", round(imc, 2))"
   ]
  },
  {
   "cell_type": "markdown",
   "metadata": {},
   "source": [
    "\n",
    "## Ejercicio 5\n",
    "\n",
    "Crea un programa que dada una cantidad en euros, devuelve su valor en dólares.\n"
   ]
  },
  {
   "cell_type": "code",
   "execution_count": null,
   "metadata": {},
   "outputs": [],
   "source": [
    "print(\"Conversor Euros a Dólares\")\n",
    "EURO_A_DOLAR = 1.12\n",
    "euros = float(input(\"Introduce euros a convertir: \"))\n",
    "dolares = euros * EURO_A_DOLAR\n",
    "print(euros, \"€ son\", dolares, \"$\")"
   ]
  },
  {
   "cell_type": "markdown",
   "metadata": {},
   "source": [
    "## Ejercicio 6\n",
    "\n",
    "Crea un programa que dada una cantidad en dólares, devuelve su valor en euros.\n"
   ]
  },
  {
   "cell_type": "code",
   "execution_count": null,
   "metadata": {},
   "outputs": [],
   "source": [
    "print(\"Conversor Euros a Dólares\")\n",
    "EURO_A_DOLAR = 1.12\n",
    "dolares = float(input(\"Introduce dólares a convertir: \"))\n",
    "euros = dolares / EURO_A_DOLAR\n",
    "print(dolares, \"$ son\", euros, \"€\")"
   ]
  },
  {
   "cell_type": "markdown",
   "metadata": {},
   "source": [
    "## Ejercicio 7\n",
    "\n",
    "Crea un programa que permita calcular la hipotenusa (`h`) de un triángulo rectángulo a partir de sus catetos (`a` y `b`)\n"
   ]
  },
  {
   "cell_type": "code",
   "execution_count": 9,
   "metadata": {},
   "outputs": [
    {
     "name": "stdout",
     "output_type": "stream",
     "text": [
      "Vamos a calcular la hipotenusa de un triángulo rectángulo\n",
      "La hipotenusa es 5.0\n"
     ]
    }
   ],
   "source": [
    "import math\n",
    "\n",
    "print(\"Vamos a calcular la hipotenusa de un triángulo rectángulo\")\n",
    "a = float(input(\"Introduce el primer cateto: \"))\n",
    "b = float(input(\"Introduce el segundo cateto: \"))\n",
    "#h = (a ** 2 + b ** 2) ** (1/2)\n",
    "#h = math.sqrt(a ** 2 + b ** 2)\n",
    "h = math.hypot(a, b)\n",
    "print(\"La hipotenusa es\", round(h, 2))"
   ]
  },
  {
   "attachments": {
    "area-esfera.png": {
     "image/png": "[encoded data removed]"
    },
    "volumen-esfera.png": {
     "image/png": "[encoded data removed]"
    }
   },
   "cell_type": "markdown",
   "metadata": {},
   "source": [
    " \n",
    "## Ejercicio 8\n",
    "\n",
    "Crea un programa que permita calcular el área y volumen de una esfera a partir de su radio (r).\n",
    "\n",
    "![area-esfera.png](attachment:area-esfera.png)\n",
    "\n",
    "![volumen-esfera.png](attachment:volumen-esfera.png)\n",
    "\n",
    "Para utilizar la constante PI, debes seguir estos pasos:\n"
   ]
  },
  {
   "cell_type": "code",
   "execution_count": 1,
   "metadata": {},
   "outputs": [
    {
     "name": "stdout",
     "output_type": "stream",
     "text": [
      "3.141592653589793\n"
     ]
    }
   ],
   "source": [
    "import math\n",
    "\n",
    "print(math.pi)"
   ]
  },
  {
   "cell_type": "code",
   "execution_count": null,
   "metadata": {},
   "outputs": [],
   "source": [
    "import math\n",
    "\n",
    "print(\"Área y volumen de esfera\")\n",
    "radio = float(input(\"Dime en radio: \"))\n",
    "area = 4 * math.pi * (radio ** 2)\n",
    "volumen = 4 * math.pi * (radio ** 3) / 3\n",
    "print(\"El área es\", area, \"y el volumen es\", volumen)"
   ]
  },
  {
   "attachments": {
    "area-cilindro.png": {
     "image/png": "[encoded data removed]"
    },
    "volumen-cilindro.png": {
     "image/png": "[encoded data removed]"
    }
   },
   "cell_type": "markdown",
   "metadata": {},
   "source": [
    "\n",
    "## Ejercicio 9\n",
    "\n",
    "Crea un programa que dado el radio (r) y la altura (h) del cilindro, calcula su área y volumen.\n",
    "\n",
    "![area-cilindro.png](attachment:area-cilindro.png)\n",
    "\n",
    "![volumen-cilindro.png](attachment:volumen-cilindro.png)\n"
   ]
  },
  {
   "cell_type": "code",
   "execution_count": null,
   "metadata": {},
   "outputs": [],
   "source": [
    "import math\n",
    "\n",
    "print(\"Área y volumen de cilindro\")\n",
    "radio = float(input(\"Dime el radio: \"))\n",
    "altura = float(input(\"Dime la altura: \"))\n",
    "area = 2 * math.pi * radio * (radio + altura)\n",
    "volumen = math.pi * (radio ** 2) * altura\n",
    "print(\"El área es\", area, \"y el volumen es\", volumen)"
   ]
  },
  {
   "attachments": {
    "formula-x-y.png": {
     "image/png": "[encoded data removed]"
    }
   },
   "cell_type": "markdown",
   "metadata": {},
   "source": [
    "\n",
    "## Ejercicio 10\n",
    "\n",
    "Crea un programa que pida un valor por pantalla (x) y haga el siguiente cálculo:\n",
    "\n",
    "![formula-x-y.png](attachment:formula-x-y.png)\n",
    "\n",
    " \n",
    "Puedes hacer pruebas con los siguientes datos:\n",
    "\n",
    "|x|y|\n",
    "|-|-|\n",
    "|1|0.6000000000000001|\n",
    "|10|0.09901951266867294|\n",
    "|100|0.009999000199950014|\n",
    "|-5|-0.19258202567760344|\n"
   ]
  },
  {
   "cell_type": "code",
   "execution_count": 13,
   "metadata": {},
   "outputs": [
    {
     "name": "stdout",
     "output_type": "stream",
     "text": [
      "y = -0.19258202567760344\n"
     ]
    }
   ],
   "source": [
    "x = float(input(\"Introduce un valor: \"))\n",
    "y = 1 / (x + 1 / (x + 1 / (x + 1 / x)))\n",
    "print(\"y =\", y)"
   ]
  },
  {
   "cell_type": "markdown",
   "metadata": {},
   "source": [
    "## Ejercicio 11\n",
    "\n",
    "Crea un programa que a partir de la hora de comienzo de un evento y su duración (3 valores: hora, minutos, duración en minutos) calcula la hora de finalización del evento. No te preocupes de los errores que pueda introducir el usuario (hora inválida).\n",
    "\n",
    "PISTA: Emplea el operador módulo (`%`)\n",
    "\n",
    "\n"
   ]
  },
  {
   "cell_type": "code",
   "execution_count": 1,
   "metadata": {},
   "outputs": [
    {
     "ename": "ValueError",
     "evalue": "invalid literal for int() with base 10: ''",
     "output_type": "error",
     "traceback": [
      "\u001b[1;31m---------------------------------------------------------------------------\u001b[0m",
      "\u001b[1;31mValueError\u001b[0m                                Traceback (most recent call last)",
      "Cell \u001b[1;32mIn[1], line 1\u001b[0m\n\u001b[1;32m----> 1\u001b[0m horas_comienzo \u001b[38;5;241m=\u001b[39m \u001b[38;5;28;43mint\u001b[39;49m\u001b[43m(\u001b[49m\u001b[38;5;28;43minput\u001b[39;49m\u001b[43m(\u001b[49m\u001b[38;5;124;43m\"\u001b[39;49m\u001b[38;5;124;43mIndica la hora de inicio\u001b[39;49m\u001b[38;5;124;43m\"\u001b[39;49m\u001b[43m)\u001b[49m\u001b[43m)\u001b[49m\n\u001b[0;32m      2\u001b[0m minutos_comienzo \u001b[38;5;241m=\u001b[39m \u001b[38;5;28mint\u001b[39m(\u001b[38;5;28minput\u001b[39m(\u001b[38;5;124m\"\u001b[39m\u001b[38;5;124mIndica los minutos de comienzo\u001b[39m\u001b[38;5;124m\"\u001b[39m))\n\u001b[0;32m      3\u001b[0m duracion \u001b[38;5;241m=\u001b[39m \u001b[38;5;28mint\u001b[39m(\u001b[38;5;28minput\u001b[39m(\u001b[38;5;124m\"\u001b[39m\u001b[38;5;124mIndica la duración (en minutos)\u001b[39m\u001b[38;5;124m\"\u001b[39m))\n",
      "\u001b[1;31mValueError\u001b[0m: invalid literal for int() with base 10: ''"
     ]
    }
   ],
   "source": [
    "horas_comienzo = int(input(\"Indica la hora de inicio\"))\n",
    "minutos_comienzo = int(input(\"Indica los minutos de comienzo\"))\n",
    "duracion = int(input(\"Indica la duración (en minutos)\"))\n",
    "\n",
    "minutos_totais = minutos_comienzo + duracion\n",
    "minutos_resultado = minutos_totais % 60\n",
    "horas_resultado = (horas_comienzo + minutos_totais // 60) % 24\n",
    "\n",
    "print(horas_resultado, minutos_resultado, sep=\":\")"
   ]
  }
 ],
 "metadata": {
  "kernelspec": {
   "display_name": "Python 3",
   "language": "python",
   "name": "python3"
  },
  "language_info": {
   "codemirror_mode": {
    "name": "ipython",
    "version": 3
   },
   "file_extension": ".py",
   "mimetype": "text/x-python",
   "name": "python",
   "nbconvert_exporter": "python",
   "pygments_lexer": "ipython3",
   "version": "3.13.1"
  },
  "orig_nbformat": 4
 },
 "nbformat": 4,
 "nbformat_minor": 2
}
