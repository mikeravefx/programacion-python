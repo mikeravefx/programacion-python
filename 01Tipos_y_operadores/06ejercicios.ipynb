{
 "cells": [
  {
   "cell_type": "markdown",
   "metadata": {},
   "source": [
    "# Ejercicios UD1\n",
    "\n",
    "## Ejercicio 1\n",
    "\n",
    "Crea un programa que pida un número al usuario y muestre su doble.\n"
   ]
  },
  {
   "cell_type": "code",
   "execution_count": 1,
   "metadata": {},
   "outputs": [
    {
     "name": "stdout",
     "output_type": "stream",
     "text": [
      "El doble es 8.0\n"
     ]
    }
   ],
   "source": [
    "input = float(input(\"Dime un numero: \"))\n",
    "print(\"El doble es\", input * 2)"
   ]
  },
  {
   "cell_type": "markdown",
   "metadata": {},
   "source": [
    "\n",
    "## Ejercicio 2\n",
    "\n",
    "Crea un programa que pida el usuario la base y exponente de una potencia y calcule su resultado.\n"
   ]
  },
  {
   "cell_type": "code",
   "execution_count": 1,
   "metadata": {},
   "outputs": [
    {
     "name": "stdout",
     "output_type": "stream",
     "text": [
      "9.0\n"
     ]
    }
   ],
   "source": [
    "my_float_variable = float(input(\"Dime la base: \"))\n",
    "exponente = float(input(\"Dime el exponente: \"))\n",
    "print(round(my_float_variable, 2) ** exponente)\n",
    "\n",
    "\n"
   ]
  },
  {
   "cell_type": "markdown",
   "metadata": {},
   "source": [
    "\n",
    "## Ejercicio 3\n",
    "\n",
    "Busca en la documentación oficial de Python qué realiza y cómo se utiliza la función `round()` (https://docs.python.org/3/library/functions.html). Prueba algunos ejemplos con diferentes números. Utilízala para redondear los resultados de los siguientes ejercicios.\n"
   ]
  },
  {
   "cell_type": "markdown",
   "metadata": {},
   "source": [
    "\n",
    "## Ejercicio 4\n",
    "\n",
    "Crea un programa que dado el nombre de una persona y su peso y altura en kg y cm, imprime su peso en libras, su altura en pies y su IMC (Índice de Masa Corporal). "
   ]
  },
  {
   "cell_type": "code",
   "execution_count": 2,
   "metadata": {},
   "outputs": [
    {
     "name": "stdout",
     "output_type": "stream",
     "text": [
      "Hola, MIguel!\n",
      "Tu peso en libras es: 196.21 lbs\n",
      "Tu altura en pies es: 0.05 pies\n",
      "Tu IMC es: 330904.22\n"
     ]
    }
   ],
   "source": [
    "def calcular_IMC(peso_kg, altura_cm):\n",
    "    # Convertir altura a metros\n",
    "    altura_m = altura_cm / 100\n",
    "    # Calcular IMC\n",
    "    imc = peso_kg / (altura_m ** 2)\n",
    "    return imc\n",
    "\n",
    "def kg_a_libras(peso_kg):\n",
    "    # 1 kg = 2.20462 libras\n",
    "    return peso_kg * 2.20462\n",
    "\n",
    "def cm_a_pies(altura_cm):\n",
    "    # 1 cm = 0.0328084 pies\n",
    "    return altura_cm * 0.0328084\n",
    "\n",
    "# Solicitar datos al usuario\n",
    "nombre = input(\"¿Cuál es tu nombre? \")\n",
    "peso_kg = float(input(\"¿Cuál es tu peso en kg? \"))\n",
    "altura_cm = float(input(\"¿Cuál es tu altura en cm? \"))\n",
    "\n",
    "# Realizar conversiones\n",
    "peso_libras = kg_a_libras(peso_kg)\n",
    "altura_pies = cm_a_pies(altura_cm)\n",
    "imc = calcular_IMC(peso_kg, altura_cm)\n",
    "\n",
    "# Imprimir resultados\n",
    "print(f\"Hola, {nombre}!\")\n",
    "print(f\"Tu peso en libras es: {peso_libras:.2f} lbs\")\n",
    "print(f\"Tu altura en pies es: {altura_pies:.2f} pies\")\n",
    "print(f\"Tu IMC es: {imc:.2f}\")\n",
    "\n",
    "# Ejemplo de entrada y salida:\n",
    "# ¿Cuál es tu nombre? Miguel\n",
    "# ¿Cuál es tu peso en kg? 70\n",
    "# ¿Cuál es tu altura en cm? 175\n",
    "# Hola, Miguel!\n",
    "# Tu peso en libras es: 154.32 lbs\n",
    "# Tu altura en pies es: 5.74 pies\n",
    "# Tu IMC es: 22.86\n"
   ]
  },
  {
   "cell_type": "markdown",
   "metadata": {},
   "source": [
    "\n",
    "## Ejercicio 5\n",
    "\n",
    "Crea un programa que dada una cantidad en euros, devuelve su valor en dólares.\n"
   ]
  },
  {
   "cell_type": "code",
   "execution_count": 4,
   "metadata": {},
   "outputs": [
    {
     "name": "stdout",
     "output_type": "stream",
     "text": [
      "100.0 euros son 110.00 dólares a una tasa de cambio de 1.1\n"
     ]
    }
   ],
   "source": [
    "def convertir_euros_a_dolares(euros, tasa_cambio):\n",
    "    dolares = euros * tasa_cambio\n",
    "    return dolares\n",
    "\n",
    "# Solicitar datos al usuario\n",
    "euros = float(input(\"¿Cuántos euros quieres convertir a dólares? \"))\n",
    "tasa_cambio = 1.10  # Tasa de cambio actual (puede variar)\n",
    "\n",
    "# Realizar la conversión\n",
    "dolares = convertir_euros_a_dolares(euros, tasa_cambio)\n",
    "\n",
    "# Imprimir el resultado\n",
    "print(f\"{euros} euros son {dolares:.2f} dólares a una tasa de cambio de {tasa_cambio}\")\n"
   ]
  },
  {
   "cell_type": "markdown",
   "metadata": {},
   "source": [
    "## Ejercicio 6\n",
    "\n",
    "Crea un programa que dada una cantidad en dólares, devuelve su valor en euros.\n"
   ]
  },
  {
   "cell_type": "code",
   "execution_count": 5,
   "metadata": {},
   "outputs": [
    {
     "name": "stdout",
     "output_type": "stream",
     "text": [
      "100.0 dólares son 90.00 euros a una tasa de cambio de 0.9\n"
     ]
    }
   ],
   "source": [
    "def convertir_dolares_a_euros(dolares, tasa_cambio):\n",
    "    euros = dolares * tasa_cambio\n",
    "    return euros\n",
    "\n",
    "# Solicitar datos al usuario\n",
    "dolares = float(input(\"¿Cuántos dólares quieres convertir a euros? \"))\n",
    "tasa_cambio = 0.90  # Tasa de cambio actual (puede variar)\n",
    "\n",
    "# Realizar la conversión\n",
    "euros = convertir_dolares_a_euros(dolares, tasa_cambio)\n",
    "\n",
    "# Imprimir el resultado\n",
    "print(f\"{dolares} dólares son {euros:.2f} euros a una tasa de cambio de {tasa_cambio}\")\n"
   ]
  },
  {
   "cell_type": "code",
   "execution_count": null,
   "metadata": {},
   "outputs": [],
   "source": []
  },
  {
   "cell_type": "markdown",
   "metadata": {},
   "source": [
    "## Ejercicio 7\n",
    "\n",
    "Crea un programa que permita calcular la hipotenusa (`h`) de un triángulo rectángulo a partir de sus catetos (`a` y `b`)\n"
   ]
  },
  {
   "cell_type": "code",
   "execution_count": 6,
   "metadata": {},
   "outputs": [
    {
     "name": "stdout",
     "output_type": "stream",
     "text": [
      "La hipotenusa del triángulo con catetos 4.0 y 4.0 es: 5.66\n"
     ]
    }
   ],
   "source": [
    "import math\n",
    "\n",
    "def calcular_hipotenusa(a, b):\n",
    "    # Calcular la hipotenusa usando el teorema de Pitágoras\n",
    "    h = math.sqrt(a**2 + b**2)\n",
    "    return h\n",
    "\n",
    "# Solicitar datos al usuario\n",
    "a = float(input(\"Introduce la longitud del cateto a: \"))\n",
    "b = float(input(\"Introduce la longitud del cateto b: \"))\n",
    "\n",
    "# Calcular la hipotenusa\n",
    "hipotenusa = calcular_hipotenusa(a, b)\n",
    "\n",
    "# Imprimir el resultado\n",
    "print(f\"La hipotenusa del triángulo con catetos {a} y {b} es: {hipotenusa:.2f}\")\n"
   ]
  },
  {
   "cell_type": "markdown",
   "metadata": {},
   "source": []
  },
  {
   "cell_type": "markdown",
   "metadata": {},
   "source": []
  },
  {
   "attachments": {
    "area-esfera.png": {
     "image/png": "[encoded data removed]"
    },
    "volumen-esfera.png": {
     "image/png": "[encoded data removed]"
    }
   },
   "cell_type": "markdown",
   "metadata": {},
   "source": [
    " \n",
    "## Ejercicio 8\n",
    "\n",
    "Crea un programa que permita calcular el área y volumen de una esfera a partir de su radio (r).\n",
    "\n",
    "![area-esfera.png](attachment:area-esfera.png)\n",
    "\n",
    "![volumen-esfera.png](attachment:volumen-esfera.png)\n",
    "\n",
    "Para utilizar la constante PI, debes seguir estos pasos:\n"
   ]
  },
  {
   "cell_type": "code",
   "execution_count": 7,
   "metadata": {},
   "outputs": [
    {
     "name": "stdout",
     "output_type": "stream",
     "text": [
      "El área de la esfera es: 201.06\n",
      "El volumen de la esfera es: 268.08\n"
     ]
    }
   ],
   "source": [
    "import math\n",
    "\n",
    "def calcular_area_esfera(radio):\n",
    "    # Fórmula para el área de la superficie de una esfera\n",
    "    area = 4 * math.pi * (radio ** 2)\n",
    "    return area\n",
    "\n",
    "def calcular_volumen_esfera(radio):\n",
    "    # Fórmula para el volumen de una esfera\n",
    "    volumen = (4/3) * math.pi * (radio ** 3)\n",
    "    return volumen\n",
    "\n",
    "# Solicitar el radio al usuario\n",
    "radio = float(input(\"Introduce el radio de la esfera: \"))\n",
    "\n",
    "# Calcular el área y el volumen\n",
    "area = calcular_area_esfera(radio)\n",
    "volumen = calcular_volumen_esfera(radio)\n",
    "\n",
    "# Imprimir los resultados\n",
    "print(f\"El área de la esfera es: {area:.2f}\")\n",
    "print(f\"El volumen de la esfera es: {volumen:.2f}\")\n",
    "\n",
    "# Ejemplo de entrada y salida:\n",
    "# Introduce el radio de la esfera: 5\n",
    "# El área de la esfera es: 314.16\n",
    "# El volumen de la esfera es: 523.60\n"
   ]
  },
  {
   "cell_type": "code",
   "execution_count": 1,
   "metadata": {},
   "outputs": [
    {
     "name": "stdout",
     "output_type": "stream",
     "text": [
      "3.141592653589793\n"
     ]
    }
   ],
   "source": [
    "import math\n",
    "\n",
    "print(math.pi)"
   ]
  },
  {
   "attachments": {
    "area-cilindro.png": {
     "image/png": "[encoded data removed]"
    },
    "volumen-cilindro.png": {
     "image/png": "[encoded data removed]"
    }
   },
   "cell_type": "markdown",
   "metadata": {},
   "source": [
    "\n",
    "## Ejercicio 9\n",
    "\n",
    "Crea un programa que dado el radio (r) y la altura (h) del cilindro, calcula su área y volumen.\n",
    "\n",
    "![area-cilindro.png](attachment:area-cilindro.png)\n",
    "\n",
    "![volumen-cilindro.png](attachment:volumen-cilindro.png)\n"
   ]
  },
  {
   "cell_type": "code",
   "execution_count": null,
   "metadata": {},
   "outputs": [],
   "source": [
    "import math\n",
    "\n",
    "def calcular_area_cilindro(radio, altura):\n",
    "    # Área lateral: 2πrh\n",
    "    area_lateral = 2 * math.pi * radio * altura\n",
    "    # Área de las dos bases: 2πr^2\n",
    "    area_bases = 2 * math.pi * (radio ** 2)\n",
    "    # Área total\n",
    "    area_total = area_lateral + area_bases\n",
    "    return area_total\n",
    "\n",
    "def calcular_volumen_cilindro(radio, altura):\n",
    "    # Volumen: πr^2h\n",
    "    volumen = math.pi * (radio ** 2) * altura\n",
    "    return volumen\n",
    "\n",
    "# Solicitar datos al usuario\n",
    "radio = float(input(\"Introduce el radio del cilindro: \"))\n",
    "altura = float(input(\"Introduce la altura del cilindro: \"))\n",
    "\n",
    "# Calcular el área y el volumen\n",
    "area = calcular_area_cilindro(radio, altura)\n",
    "volumen = calcular_volumen_cilindro(radio, altura)\n",
    "\n",
    "# Imprimir los resultados\n",
    "print(f\"El área del cilindro es: {area:.2f}\")\n",
    "print(f\"El volumen del cilindro es: {volumen:.2f}\")\n",
    "\n",
    "# Ejemplo de entrada y salida:\n",
    "# Introduce el radio del cilindro: 5\n",
    "# Introduce la altura del cilindro: 10\n",
    "# El área del cilindro es: 471.24\n",
    "# El volumen del cilindro es: 785.40\n"
   ]
  },
  {
   "attachments": {
    "formula-x-y.png": {
     "image/png": "[encoded data removed]"
    }
   },
   "cell_type": "markdown",
   "metadata": {},
   "source": [
    "\n",
    "## Ejercicio 10\n",
    "\n",
    "Crea un programa que pida un valor por pantalla (x) y haga el siguiente cálculo:\n",
    "\n",
    "![formula-x-y.png](attachment:formula-x-y.png)\n",
    "\n",
    " \n",
    "Puedes hacer pruebas con los siguientes datos:\n",
    "\n",
    "|x|y|\n",
    "|-|-|\n",
    "|1|0.6000000000000001|\n",
    "|10|0.09901951266867294|\n",
    "|100|0.009999000199950014|\n",
    "|-5|-0.19258202567760344|\n"
   ]
  },
  {
   "cell_type": "code",
   "execution_count": null,
   "metadata": {},
   "outputs": [],
   "source": [
    "def calcular_y(x):\n",
    "    # Realizar el cálculo de y\n",
    "    y = 1 / (x + 1 / (x + 1 / (x + 1 / x)))\n",
    "    return y\n",
    "\n",
    "# Solicitar el valor de x al usuario\n",
    "x = float(input(\"Introduce el valor de x: \"))\n",
    "\n",
    "# Calcular el valor de y\n",
    "y = calcular_y(x)\n",
    "\n",
    "# Imprimir el resultado\n",
    "print(f\"El valor de y es: {y:.4f}\")\n"
   ]
  },
  {
   "cell_type": "code",
   "execution_count": null,
   "metadata": {},
   "outputs": [],
   "source": []
  },
  {
   "cell_type": "code",
   "execution_count": 8,
   "metadata": {},
   "outputs": [
    {
     "name": "stdout",
     "output_type": "stream",
     "text": [
      "Para x = 1, y = 0.6000000000000001\n",
      "Para x = 10, y = 0.0990195126686729\n",
      "Para x = 100, y = 0.0099990001999500\n",
      "Para x = -5, y = -0.1925820256776034\n"
     ]
    }
   ],
   "source": [
    "def calcular_y(x):\n",
    "    # Realizar el cálculo de y\n",
    "    y = 1 / (x + 1 / (x + 1 / (x + 1 / x)))\n",
    "    return y\n",
    "\n",
    "# Datos para las pruebas\n",
    "valores_x = [1, 10, 100, -5]\n",
    "\n",
    "# Calcular y para cada valor de x\n",
    "resultados = {x: calcular_y(x) for x in valores_x}\n",
    "\n",
    "# Imprimir resultados\n",
    "for x, y in resultados.items():\n",
    "    print(f\"Para x = {x}, y = {y:.16f}\")\n"
   ]
  },
  {
   "cell_type": "markdown",
   "metadata": {},
   "source": [
    "## Ejercicio 11\n",
    "\n",
    "Crea un programa que a partir de la hora de comienzo de un evento y su duración (3 valores: hora, minutos, duración en minutos) calcula la hora de finalización del evento. No te preocupes de los errores que pueda introducir el usuario (hora inválida).\n",
    "\n",
    "PISTA: Emplea el operador módulo (`%`)\n",
    "\n",
    "\n"
   ]
  },
  {
   "cell_type": "code",
   "execution_count": 9,
   "metadata": {},
   "outputs": [
    {
     "name": "stdout",
     "output_type": "stream",
     "text": [
      "La hora de finalización del evento es: 02:30\n"
     ]
    }
   ],
   "source": [
    "def calcular_hora_final(hora_inicio, minutos_inicio, duracion_minutos):\n",
    "    # Calcular minutos totales desde la hora de inicio\n",
    "    minutos_totales = minutos_inicio + duracion_minutos\n",
    "    # Calcular nueva hora y minutos\n",
    "    nueva_hora = (hora_inicio + (minutos_totales // 60)) % 24\n",
    "    nuevos_minutos = minutos_totales % 60\n",
    "    return nueva_hora, nuevos_minutos\n",
    "\n",
    "# Solicitar datos al usuario\n",
    "hora_inicio = int(input(\"Introduce la hora de inicio (0-23): \"))\n",
    "minutos_inicio = int(input(\"Introduce los minutos de inicio (0-59): \"))\n",
    "duracion_minutos = int(input(\"Introduce la duración en minutos: \"))\n",
    "\n",
    "# Calcular la hora de finalización\n",
    "hora_final, minutos_final = calcular_hora_final(hora_inicio, minutos_inicio, duracion_minutos)\n",
    "\n",
    "# Imprimir los resultados\n",
    "print(f\"La hora de finalización del evento es: {hora_final:02d}:{minutos_final:02d}\")\n",
    "\n",
    "# Ejemplo de entrada y salida:\n",
    "# Introduce la hora de inicio (0-23): 22\n",
    "# Introduce los minutos de inicio (0-59): 45\n",
    "# Introduce la duración en minutos: 80\n",
    "# La hora de finalización del evento es: 00:05\n"
   ]
  }
 ],
 "metadata": {
  "kernelspec": {
   "display_name": "Python 3",
   "language": "python",
   "name": "python3"
  },
  "language_info": {
   "codemirror_mode": {
    "name": "ipython",
    "version": 3
   },
   "file_extension": ".py",
   "mimetype": "text/x-python",
   "name": "python",
   "nbconvert_exporter": "python",
   "pygments_lexer": "ipython3",
   "version": "3.13.1"
  },
  "orig_nbformat": 4
 },
 "nbformat": 4,
 "nbformat_minor": 2
}
