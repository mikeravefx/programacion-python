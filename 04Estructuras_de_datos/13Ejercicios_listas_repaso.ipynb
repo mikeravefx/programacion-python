{
 "cells": [
  {
   "cell_type": "markdown",
   "metadata": {},
   "source": [
    "## Ejercicio 1\n",
    "\n",
    "Escribe una función `sumar_elementos(lista)` que reciba una lista de números y devuelva la suma de todos sus elementos."
   ]
  },
  {
   "cell_type": "code",
   "execution_count": 4,
   "metadata": {},
   "outputs": [
    {
     "name": "stdout",
     "output_type": "stream",
     "text": [
      "El valor sumado es 1\n",
      "Lista actualizada: [1]\n",
      "El valor sumado es 3\n",
      "Lista actualizada: [1, 2]\n",
      "El valor sumado es 6\n",
      "Lista actualizada: [1, 2, 3]\n",
      "El valor sumado es 10\n",
      "Lista actualizada: [1, 2, 3, 4]\n",
      "El valor sumado es 15\n",
      "Lista actualizada: [1, 2, 3, 4, 5]\n",
      "No se agregaron más valores.\n"
     ]
    }
   ],
   "source": [
    "def crear_lista() -> list:\n",
    "    \"\"\"Función para crear una lista agregando valores y sumando los valores.\"\"\"\n",
    "    lista = []\n",
    "    suma = 0\n",
    "    opcion = \"S\"  # Inicializamos la variable `opcion`\n",
    "\n",
    "    while opcion.lower() == \"s\":  # Aseguramos que la comparación no sea sensible a mayúsculas/minúsculas\n",
    "        try:\n",
    "            # Preguntar al usuario si desea introducir más valores\n",
    "            opcion = input(\"¿Desea introducir más valores? S/N: \").strip().lower()\n",
    "            if opcion == \"n\":\n",
    "                print(\"No se agregaron más valores.\")\n",
    "                return lista\n",
    "            elif opcion == \"s\":\n",
    "                # Pedir un valor al usuario\n",
    "                valor = int(input(\"Introduce un valor: \"))\n",
    "                # Agregar el valor a la lista\n",
    "                lista.append(valor)\n",
    "                # Sumar el valor al total\n",
    "                suma += valor\n",
    "                print(f\"El valor sumado es {suma}\")\n",
    "                print(f\"Lista actualizada: {lista}\")\n",
    "            else:\n",
    "                print(\"Opción no válida. Escribe 'S' para sí o 'N' para no.\")\n",
    "        except ValueError:\n",
    "            print(\"El valor introducido no es un número.\")\n",
    "    print(\"Lista final:\", lista)\n",
    "    return lista\n",
    "\n",
    "# Ejecución de la función\n",
    "lista_final = crear_lista()\n",
    "\n",
    "\n"
   ]
  },
  {
   "cell_type": "markdown",
   "metadata": {},
   "source": [
    "## Ejercicio 2\n",
    "\n",
    "Crea una función `encontrar_extremos(lista)` que reciba una lista de números y devuelva el menor y el mayor valor de la lista."
   ]
  },
  {
   "cell_type": "code",
   "execution_count": null,
   "metadata": {},
   "outputs": [
    {
     "name": "stdout",
     "output_type": "stream",
     "text": [
      "El valor sumado es 12\n",
      "Lista actualizada: [12]\n",
      "El valor sumado es 25\n",
      "Lista actualizada: [12, 13]\n",
      "El valor sumado es 39\n",
      "Lista actualizada: [12, 13, 14]\n",
      "El valor sumado es 95\n",
      "Lista actualizada: [12, 13, 14, 56]\n",
      "El valor sumado es 161\n",
      "Lista actualizada: [12, 13, 14, 56, 66]\n",
      "No se agregaron más valores.\n",
      "Mayor de la lista: {66}\n",
      "Menor de la lista: {12}\n"
     ]
    }
   ],
   "source": [
    "def crear_lista() -> list:\n",
    "    \"\"\"Función para crear una lista agregando valores y sumando los valores.\"\"\"\n",
    "    lista = []\n",
    "    suma = 0\n",
    "    opcion = \"S\"  # Inicializamos la variable `opcion`\n",
    "\n",
    "    while opcion.lower() == \"s\":  # Aseguramos que la comparación no sea sensible a mayúsculas/minúsculas\n",
    "        try:\n",
    "            # Preguntar al usuario si desea introducir más valores\n",
    "            opcion = input(\"¿Desea introducir más valores? S/N: \").strip().lower()\n",
    "            if opcion == \"n\":\n",
    "                print(\"No se agregaron más valores.\")\n",
    "                return lista\n",
    "            elif opcion == \"s\":\n",
    "                # Pedir un valor al usuario\n",
    "                valor = int(input(\"Introduce un valor: \"))\n",
    "                # Agregar el valor a la lista\n",
    "                lista.append(valor)\n",
    "                # Sumar el valor al total\n",
    "                suma += valor\n",
    "                print(f\"El valor sumado es {suma}\")\n",
    "                print(f\"Lista actualizada: {lista}\")\n",
    "            else:\n",
    "                print(\"Opción no válida. Escribe 'S' para sí o 'N' para no.\")\n",
    "        except ValueError:\n",
    "            print(\"El valor introducido no es un número.\")\n",
    "    return lista\n",
    "\n",
    "# Ejecución de la función\n",
    "lista_final = crear_lista()\n",
    "print(\"Mayor de la lista:\", {max(lista_final)} )\n",
    "print(\"Menor de la lista:\", {min(lista_final)} )"
   ]
  },
  {
   "cell_type": "markdown",
   "metadata": {},
   "source": [
    "## Ejercicio 3\n",
    "\n",
    "Crea una función `contar_ocurrencias(lista, elemento)` que reciba una lista y un valor, y devuelva cuántas veces aparece ese valor en la lista."
   ]
  },
  {
   "cell_type": "markdown",
   "metadata": {},
   "source": [
    "## Ejercicio 4\n",
    "\n",
    "Escribe una función `multiplicar_por_factor(lista, factor)` que reciba una lista de números y un número (factor). La función debe devolver una nueva lista donde cada elemento de la lista original esté multiplicado por el factor.\n",
    "\n",
    "Resuélvelo de dos formas: sin utilizar comprensión de listas y utilizándolas."
   ]
  },
  {
   "cell_type": "markdown",
   "metadata": {},
   "source": [
    "## Ejercicio 5\n",
    "\n",
    "Desarrolla una función `concatenar_listas(lista1, lista2)` que reciba dos listas y devuelva una nueva lista que sea la concatenación de ambas."
   ]
  },
  {
   "cell_type": "markdown",
   "metadata": {},
   "source": [
    "## Ejercicio 6\n",
    "\n",
    "Crea una función `eliminar_negativos(lista)` que reciba una lista de números y devuelva una nueva lista sin los números negativos."
   ]
  },
  {
   "cell_type": "markdown",
   "metadata": {},
   "source": [
    "## Ejercicio 7\n",
    "\n",
    "Escribe una función `esta_ordenada(lista)` que reciba una lista de números y devuelva `True` si los elementos están en orden ascendente y `False` en caso contrario."
   ]
  },
  {
   "cell_type": "markdown",
   "metadata": {},
   "source": [
    "## Ejercicio 8\n",
    "\n",
    "Desarrolla una función `intercalar_listas(lista1, lista2)` que reciba dos listas y devuelva una nueva lista con los elementos de ambas listas intercalados. Si una lista es más corta, se deben añadir los elementos restantes de la lista más larga al final."
   ]
  },
  {
   "cell_type": "markdown",
   "metadata": {},
   "source": [
    "## Ejercicio 9\n",
    "\n",
    "Escribe una función `rotar_lista(lista, n)` que reciba una lista y un entero `n`. La función debe devolver la lista rotada a la izquierda `n` posiciones."
   ]
  }
 ],
 "metadata": {
  "kernelspec": {
   "display_name": "Python 3",
   "language": "python",
   "name": "python3"
  },
  "language_info": {
   "codemirror_mode": {
    "name": "ipython",
    "version": 3
   },
   "file_extension": ".py",
   "mimetype": "text/x-python",
   "name": "python",
   "nbconvert_exporter": "python",
   "pygments_lexer": "ipython3",
   "version": "3.13.1"
  }
 },
 "nbformat": 4,
 "nbformat_minor": 2
}
