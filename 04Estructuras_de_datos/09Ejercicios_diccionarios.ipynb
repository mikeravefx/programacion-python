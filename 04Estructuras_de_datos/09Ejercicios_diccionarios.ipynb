{
 "cells": [
  {
   "cell_type": "markdown",
   "metadata": {},
   "source": [
    "# Ejercicios"
   ]
  },
  {
   "cell_type": "markdown",
   "metadata": {},
   "source": [
    "## Ejercicio 1\n",
    "\n",
    "Escribir un programa que pregunte al usuario su nombre, edad, dirección y teléfono y lo guarde en un diccionario. Después debe mostrar por pantalla el mensaje \n",
    "\n",
    "`<nombre> tiene <edad> años, vive en <dirección> y su número de teléfono es <teléfono>.`"
   ]
  },
  {
   "cell_type": "markdown",
   "metadata": {},
   "source": [
    "## Ejercicio 2\n",
    "\n",
    "Escribe un programa que lea una cadena y devuelva un diccionario con la cantidad de apariciones de cada vocal en la cadena."
   ]
  },
  {
   "cell_type": "markdown",
   "metadata": {},
   "source": [
    "## Ejercicio 3\n",
    "\n",
    "Escribe un programa que cuente la frecuencia de las palabras en una cadena de texto dada. El programa debe devolver un diccionario donde las claves sean las palabras y los valores sean la frecuencia de cada palabra.\n",
    "\n",
    "Puedes realizar este ejercicio de Codewars que es muy similar: https://www.codewars.com/kata/578de3801499359921000130\n"
   ]
  },
  {
   "cell_type": "markdown",
   "metadata": {},
   "source": [
    "## Ejericio 4\n",
    "\n",
    "Escribe un programa que a partir de dos tuplas, una con nombres y otra con edades las convierta en un diccionario donde las claves sean los nombres y los valores sean las edades."
   ]
  },
  {
   "cell_type": "markdown",
   "metadata": {},
   "source": [
    "## Ejercicio 5\n",
    "\n",
    "Escribe un programa que utilice un diccionario como lista de la compra. La clave será el nombre del producto y el valor será la cantidad. El programa irá pidiendo los productos y la cantidad que se ha comprado, y los irá añadiendo al diccionario. \n",
    "\n",
    "El programa mostrará la lista de la compra.\n",
    "\n",
    "```python\n",
    "Producto    Cantidad\n",
    "Manzanas    2\n",
    "Peras       3\n",
    "Naranjas    1\n",
    "```\n",
    "\n",
    "Añade un nuevo diccionario que relacione el producto con su precio unitario. \n",
    "\n",
    "Tu programa debe usar ambos diccionarios para mostrar el ticket de compra con el precio total de la compra de cada producto y el precio total de la compra.\n",
    "\n",
    "```python\n",
    "Producto    Cantidad    Precio unitario    Precio total\n",
    "Manzanas    2           0.35 €             0.7 €\n",
    "Peras       3           0.40 €             1.2 €\n",
    "Naranjas    1           0.50 €             0.5 €\n",
    "\n",
    "TOTAL                                      2.4 € \n",
    "```"
   ]
  },
  {
   "cell_type": "code",
   "execution_count": 1,
   "metadata": {},
   "outputs": [
    {
     "ename": "ValueError",
     "evalue": "invalid literal for int() with base 10: ''",
     "output_type": "error",
     "traceback": [
      "\u001b[1;31m---------------------------------------------------------------------------\u001b[0m",
      "\u001b[1;31mValueError\u001b[0m                                Traceback (most recent call last)",
      "Cell \u001b[1;32mIn[1], line 44\u001b[0m\n\u001b[0;32m     41\u001b[0m     \u001b[38;5;28mprint\u001b[39m(\u001b[38;5;124mf\u001b[39m\u001b[38;5;124m\"\u001b[39m\u001b[38;5;130;01m\\n\u001b[39;00m\u001b[38;5;124mTOTAL                              \u001b[39m\u001b[38;5;132;01m{\u001b[39;00mtotal_compra\u001b[38;5;132;01m}\u001b[39;00m\u001b[38;5;124m €\u001b[39m\u001b[38;5;124m\"\u001b[39m)\n\u001b[0;32m     43\u001b[0m \u001b[38;5;66;03m# Agregar productos a la lista de la compra\u001b[39;00m\n\u001b[1;32m---> 44\u001b[0m \u001b[43magregar_producto\u001b[49m\u001b[43m(\u001b[49m\u001b[43m)\u001b[49m\n\u001b[0;32m     46\u001b[0m \u001b[38;5;66;03m# Mostrar la lista de la compra\u001b[39;00m\n\u001b[0;32m     47\u001b[0m mostrar_lista_compra()\n",
      "Cell \u001b[1;32mIn[1], line 18\u001b[0m, in \u001b[0;36magregar_producto\u001b[1;34m()\u001b[0m\n\u001b[0;32m     16\u001b[0m \u001b[38;5;28;01mif\u001b[39;00m producto\u001b[38;5;241m.\u001b[39mlower() \u001b[38;5;241m==\u001b[39m \u001b[38;5;124m'\u001b[39m\u001b[38;5;124msalir\u001b[39m\u001b[38;5;124m'\u001b[39m:\n\u001b[0;32m     17\u001b[0m     \u001b[38;5;28;01mbreak\u001b[39;00m\n\u001b[1;32m---> 18\u001b[0m cantidad \u001b[38;5;241m=\u001b[39m \u001b[38;5;28;43mint\u001b[39;49m\u001b[43m(\u001b[49m\u001b[38;5;28;43minput\u001b[39;49m\u001b[43m(\u001b[49m\u001b[38;5;124;43mf\u001b[39;49m\u001b[38;5;124;43m\"\u001b[39;49m\u001b[38;5;124;43mIntroduce la cantidad de \u001b[39;49m\u001b[38;5;132;43;01m{\u001b[39;49;00m\u001b[43mproducto\u001b[49m\u001b[38;5;132;43;01m}\u001b[39;49;00m\u001b[38;5;124;43m: \u001b[39;49m\u001b[38;5;124;43m\"\u001b[39;49m\u001b[43m)\u001b[49m\u001b[43m)\u001b[49m\n\u001b[0;32m     19\u001b[0m \u001b[38;5;28;01mif\u001b[39;00m producto \u001b[38;5;129;01min\u001b[39;00m lista_compra:\n\u001b[0;32m     20\u001b[0m     lista_compra[producto] \u001b[38;5;241m+\u001b[39m\u001b[38;5;241m=\u001b[39m cantidad\n",
      "\u001b[1;31mValueError\u001b[0m: invalid literal for int() with base 10: ''"
     ]
    }
   ],
   "source": [
    "# Diccionario para almacenar la lista de la compra\n",
    "lista_compra = {}\n",
    "\n",
    "# Diccionario para relacionar el producto con su precio unitario\n",
    "precios = {\n",
    "    \"Manzanas\": 0.35,\n",
    "    \"Peras\": 0.40,\n",
    "    \"Naranjas\": 0.50,\n",
    "    \"Plátanos\": 0.30,  # Puedes agregar más productos y precios aquí\n",
    "}\n",
    "\n",
    "# Función para agregar productos a la lista de la compra\n",
    "def agregar_producto():\n",
    "    while True:\n",
    "        producto = input(\"Introduce el nombre del producto (o escribe 'salir' para terminar): \").strip()\n",
    "        if producto.lower() == 'salir':\n",
    "            break\n",
    "        cantidad = int(input(f\"Introduce la cantidad de {producto}: \"))\n",
    "        if producto in lista_compra:\n",
    "            lista_compra[producto] += cantidad\n",
    "        else:\n",
    "            lista_compra[producto] = cantidad\n",
    "\n",
    "# Función para mostrar la lista de la compra\n",
    "def mostrar_lista_compra():\n",
    "    print(\"\\nLista de la compra:\")\n",
    "    print(\"Producto    Cantidad\")\n",
    "    for producto, cantidad in lista_compra.items():\n",
    "        print(f\"{producto:10} {cantidad}\")\n",
    "\n",
    "# Función para mostrar el ticket de compra\n",
    "def mostrar_ticket_compra():\n",
    "    print(\"\\nTicket de compra:\")\n",
    "    print(\"Producto    Cantidad    Precio unitario    Precio total\")\n",
    "    total_compra = 0\n",
    "    for producto, cantidad in lista_compra.items():\n",
    "        precio_unitario = precios.get(producto, 0)\n",
    "        precio_total = cantidad * precio_unitario\n",
    "        total_compra += precio_total\n",
    "        print(f\"{producto:10} {cantidad:<10} {precio_unitario:<17} {precio_total}\")\n",
    "    print(f\"\\nTOTAL                              {total_compra} €\")\n",
    "\n",
    "# Agregar productos a la lista de la compra\n",
    "agregar_producto()\n",
    "\n",
    "# Mostrar la lista de la compra\n",
    "mostrar_lista_compra()\n",
    "\n",
    "# Mostrar el ticket de compra\n",
    "mostrar_ticket_compra()\n"
   ]
  }
 ],
 "metadata": {
  "kernelspec": {
   "display_name": "Python 3",
   "language": "python",
   "name": "python3"
  },
  "language_info": {
   "codemirror_mode": {
    "name": "ipython",
    "version": 3
   },
   "file_extension": ".py",
   "mimetype": "text/x-python",
   "name": "python",
   "nbconvert_exporter": "python",
   "pygments_lexer": "ipython3",
   "version": "3.13.1"
  }
 },
 "nbformat": 4,
 "nbformat_minor": 2
}
