{
 "cells": [
  {
   "cell_type": "markdown",
   "metadata": {},
   "source": [
    "# Ejercicios\n",
    "\n",
    "## Ejercicio 1\n",
    "\n",
    "Crea una función que pida al usuario 5 números y los guarde en una lista y devuelva esa lista.\n",
    "\n",
    "A continuación, muéstrala en orden inverso a como se introdujeron.\n"
   ]
  },
  {
   "cell_type": "code",
   "execution_count": 6,
   "metadata": {},
   "outputs": [
    {
     "name": "stdout",
     "output_type": "stream",
     "text": [
      "Lista actual: ['1']\n",
      "Lista actual: ['1', '2']\n",
      "Lista actual: ['1', '2', '2']\n",
      "Lista actual: ['1', '2', '2', '3']\n",
      "Lista actual: ['1', '2', '2', '3', '3']\n",
      "Lista actual: ['1', '2', '2', '3', '3', '4']\n"
     ]
    },
    {
     "data": {
      "text/plain": [
       "['1', '2', '2', '3', '3', '4']"
      ]
     },
     "execution_count": 6,
     "metadata": {},
     "output_type": "execute_result"
    }
   ],
   "source": [
    "\n",
    "def crearlista() -> list:\n",
    "    lista = []  # Nueva lista vacía\n",
    "    while True:\n",
    "        valor = input(\"Introduce un valor para agregar a la lista (o escribe 'fin' para terminar): \")\n",
    "        if valor.lower() == 'fin':  # Condición para salir del bucle\n",
    "            break\n",
    "        lista.append(valor)  # Agregar el valor introducido a la lista\n",
    "        print(f\"Lista actual: {lista}\")  # Mostrar la lista actualizada\n",
    "    return lista  # Devolver la lista final\n",
    "\n",
    "crearlista()\n"
   ]
  },
  {
   "cell_type": "markdown",
   "metadata": {},
   "source": [
    "\n",
    "## Ejercicio 2\n",
    "\n",
    "Usando la función del ejercicio anterior, úsala y después busca el mayor de los números introducidos.\n"
   ]
  },
  {
   "cell_type": "code",
   "execution_count": 13,
   "metadata": {},
   "outputs": [
    {
     "name": "stdout",
     "output_type": "stream",
     "text": [
      "\n",
      "Menú Principal\n",
      "1. Crear una lista\n",
      "2. Invertir la lista\n",
      "3. Encontrar el elemento mayor\n",
      "4. Encontrar el elemento menor\n",
      "5. Contar elementos de la lista\n",
      "6. Mostrar la lista actual\n",
      "7. Salir\n",
      "La lista está vacía. Por favor, crea una lista primero.\n",
      "\n",
      "Menú Principal\n",
      "1. Crear una lista\n",
      "2. Invertir la lista\n",
      "3. Encontrar el elemento mayor\n",
      "4. Encontrar el elemento menor\n",
      "5. Contar elementos de la lista\n",
      "6. Mostrar la lista actual\n",
      "7. Salir\n",
      "Saliendo del programa. ¡Hasta luego!\n"
     ]
    }
   ],
   "source": [
    "def crear_lista() -> list:\n",
    "    \"\"\"Crea una lista de valores ingresados por el usuario.\"\"\"\n",
    "    lista = []\n",
    "    while True:\n",
    "        valor = input(\"Introduce un valor para agregar a la lista (o escribe 'fin' para terminar): \")\n",
    "        if valor.lower() == 'fin':  # Salir del bucle\n",
    "            break\n",
    "        lista.append(valor)  # Agregar el valor ingresado\n",
    "        print(f\"Lista actual: {lista}\")\n",
    "    return lista\n",
    "\n",
    "def invertir_lista(lista: list) -> list:\n",
    "    \"\"\"Invierte el orden de los elementos de la lista.\"\"\"\n",
    "    return lista[::-1]\n",
    "\n",
    "def encontrar_mayor(lista: list) -> str:\n",
    "    \"\"\"Encuentra el mayor elemento de la lista.\"\"\"\n",
    "    if not lista:\n",
    "        return \"La lista está vacía.\"\n",
    "    return max(lista)\n",
    "\n",
    "def encontrar_menor(lista: list) -> str:\n",
    "    \"\"\"Encuentra el menor elemento de la lista.\"\"\"\n",
    "    if not lista:\n",
    "        return \"La lista está vacía.\"\n",
    "    return min(lista)\n",
    "\n",
    "def contar_elementos(lista: list) -> int:\n",
    "    \"\"\"Cuenta el número de elementos en la lista.\"\"\"\n",
    "    return len(lista)\n",
    "\n",
    "def menu_principal():\n",
    "    lista = []  # Lista inicial vacía\n",
    "\n",
    "    while True:\n",
    "        # Mostrar el menú principal\n",
    "        print(\"\\nMenú Principal\")\n",
    "        print(\"1. Crear una lista\")\n",
    "        print(\"2. Invertir la lista\")\n",
    "        print(\"3. Encontrar el elemento mayor\")\n",
    "        print(\"4. Encontrar el elemento menor\")\n",
    "        print(\"5. Contar elementos de la lista\")\n",
    "        print(\"6. Mostrar la lista actual\")\n",
    "        print(\"7. Salir\")\n",
    "\n",
    "        # Solicitar la elección del usuario\n",
    "        opcion = input(\"Selecciona una opción: \")\n",
    "\n",
    "        if opcion == '1':\n",
    "            print(\"Creando una nueva lista...\")\n",
    "            lista = crear_lista()\n",
    "            print(f\"Lista creada: {lista}\")\n",
    "\n",
    "        elif opcion == '2':\n",
    "            if lista:\n",
    "                lista_invertida = invertir_lista(lista)\n",
    "                print(f\"Lista invertida: {lista_invertida}\")\n",
    "            else:\n",
    "                print(\"La lista está vacía. Por favor, crea una lista primero.\")\n",
    "\n",
    "        elif opcion == '3':\n",
    "            if lista:\n",
    "                mayor = encontrar_mayor(lista)\n",
    "                print(f\"Elemento mayor: {mayor}\")\n",
    "            else:\n",
    "                print(\"La lista está vacía. Por favor, crea una lista primero.\")\n",
    "\n",
    "        elif opcion == '4':\n",
    "            if lista:\n",
    "                menor = encontrar_menor(lista)\n",
    "                print(f\"Elemento menor: {menor}\")\n",
    "            else:\n",
    "                print(\"La lista está vacía. Por favor, crea una lista primero.\")\n",
    "\n",
    "        elif opcion == '5':\n",
    "            if lista:\n",
    "                cantidad = contar_elementos(lista)\n",
    "                print(f\"Número de elementos en la lista: {cantidad}\")\n",
    "            else:\n",
    "                print(\"La lista está vacía. Por favor, crea una lista primero.\")\n",
    "\n",
    "        elif opcion == '6':\n",
    "            print(f\"Lista actual: {lista}\")\n",
    "\n",
    "        elif opcion == '7':\n",
    "            print(\"Saliendo del programa. ¡Hasta luego!\")\n",
    "            break\n",
    "\n",
    "        else:\n",
    "            print(\"Opción no válida. Por favor, selecciona una opción del 1 al 7.\")\n",
    "\n",
    "menu_principal()"
   ]
  },
  {
   "cell_type": "markdown",
   "metadata": {},
   "source": [
    "\n",
    "## Ejercicio 3\n",
    "\n",
    "A partir de una lista, escribe un programa que cree una lista nueva con los elementos de la primera lista que sean impares.\n"
   ]
  },
  {
   "cell_type": "code",
   "execution_count": 24,
   "metadata": {},
   "outputs": [
    {
     "name": "stdout",
     "output_type": "stream",
     "text": [
      "Lista creada: [1, 2, 3, 4, 5]\n",
      "Números impares en la lista: [1, 3, 5]\n",
      "Contador de impares: 3\n",
      "Números pares en la lista: [2, 4]\n",
      "Contador de pares: 2\n"
     ]
    }
   ],
   "source": [
    "contador_pares = 0\n",
    "contador_impares = 0\n",
    "\n",
    "def crear_lista() -> list:\n",
    "    \"\"\"Crea una lista de valores ingresados por el usuario.\"\"\"\n",
    "    lista = []\n",
    "    while True:\n",
    "        try:\n",
    "            valor = input(\"Introduce un número (o escribe 'fin' para terminar): \")\n",
    "            if valor.lower() == 'fin':  # Salir del bucle\n",
    "                break\n",
    "            lista.append(int(valor))  # Convertir el valor a entero y agregar a la lista\n",
    "        except ValueError:\n",
    "            print(\"Por favor, introduce un número válido.\")\n",
    "    return lista\n",
    "\n",
    "def lista_impares(lista: list, contador_impares: int) -> tuple:\n",
    "    \"\"\"Devuelve una lista con los elementos impares de la lista original y el contador de impares.\"\"\"\n",
    "    impares = [valor for valor in lista if valor % 2 != 0]\n",
    "    contador_impares += len(impares)\n",
    "    return impares, contador_impares\n",
    "\n",
    "def lista_pares(lista: list, contador_pares: int) -> tuple:\n",
    "    \"\"\"Devuelve una lista con los elementos pares de la lista original y el contador de pares.\"\"\"\n",
    "    pares = [valor for valor in lista if valor % 2 == 0]\n",
    "    contador_pares += len(pares)\n",
    "    return pares, contador_pares\n",
    "\n",
    "# Probar las funciones\n",
    "def menu_principal():\n",
    "    global contador_pares, contador_impares\n",
    "    mi_lista = crear_lista()\n",
    "    print(\"Lista creada:\", mi_lista)\n",
    "    \n",
    "    impares, contador_impares = lista_impares(mi_lista, contador_impares)\n",
    "    print(\"Números impares en la lista:\", impares)\n",
    "    print(\"Contador de impares:\", contador_impares)\n",
    "    \n",
    "    pares, contador_pares = lista_pares(mi_lista, contador_pares)\n",
    "    print(\"Números pares en la lista:\", pares)\n",
    "    print(\"Contador de pares:\", contador_pares)\n",
    "\n",
    "menu_principal()\n",
    "\n"
   ]
  },
  {
   "cell_type": "code",
   "execution_count": null,
   "metadata": {},
   "outputs": [],
   "source": [
    "\n"
   ]
  },
  {
   "cell_type": "code",
   "execution_count": null,
   "metadata": {},
   "outputs": [],
   "source": []
  },
  {
   "cell_type": "markdown",
   "metadata": {},
   "source": [
    "## Ejercicio 4\n",
    "\n",
    "Escribe una función que reciba una lista de enteros y devuelva otra lista con los dobles de sus elementos.\n"
   ]
  },
  {
   "cell_type": "code",
   "execution_count": 36,
   "metadata": {},
   "outputs": [
    {
     "name": "stdout",
     "output_type": "stream",
     "text": [
      "La lista de dobles es: [2, 4, 6]\n"
     ]
    }
   ],
   "source": [
    "def crear_lista() -> list:\n",
    "    \"\"\"Crea una lista de valores ingresados por el usuario.\"\"\"\n",
    "    lista = []\n",
    "    while True:\n",
    "        try:\n",
    "            valor = input(\"Introduce un número (o escribe 'fin' para terminar): \")\n",
    "            if valor.lower() == 'fin':  # Salir del bucle\n",
    "                break\n",
    "            lista.append(int(valor) * 2)  # Multiplica el valor a entero * 2\n",
    "        except ValueError:\n",
    "            print(\"Por favor, introduce un número válido.\")\n",
    "    return lista\n",
    "\n",
    "def imprimir_lista(lista: list) -> None:\n",
    "    \"\"\"Imprime la lista de valores ingresados por el usuario.\"\"\"\n",
    "    print(f\"La lista de dobles es: {lista}\")\n",
    "\n",
    "# Probar las funciones\n",
    "lista = crear_lista()\n",
    "imprimir_lista(lista)\n"
   ]
  },
  {
   "cell_type": "markdown",
   "metadata": {},
   "source": [
    "## Ejercicio 5\n",
    "\n",
    "Usa la función del ejercicio 1 para crear una lista. A continuación, reemplaza todos los números negativos de esa lista por 0."
   ]
  },
  {
   "cell_type": "code",
   "execution_count": 55,
   "metadata": {},
   "outputs": [
    {
     "name": "stdout",
     "output_type": "stream",
     "text": [
      "Lista original: [1, -1, 1]\n",
      "Lista modificada: [1, 0, 1]\n"
     ]
    }
   ],
   "source": [
    "def crear_lista() -> None:\n",
    "    \"\"\"Crea una lista de valores ingresados por el usuario y muestra una lista modificada.\"\"\"\n",
    "lista = []\n",
    "lista2 = []\n",
    "while True:\n",
    "        try:\n",
    "            valor = input(\"Introduce un número (o escribe 'fin' para terminar): \")\n",
    "            if valor.lower() == 'fin':  # Salir del bucle\n",
    "                break\n",
    "            valor = int(valor)  # Convertir el valor a entero\n",
    "            lista.append(valor)  # Agregar a la lista original\n",
    "            if valor < 0:\n",
    "                lista2.append(0)  # Sustituir por 0 si el valor es menor que 0\n",
    "            else:\n",
    "                lista2.append(valor)  # Mantener el valor original si no es menor que 0\n",
    "        except ValueError:\n",
    "            print(\"Por favor, introduce un número válido.\")\n",
    "print(f\"Lista original: {lista}\")\n",
    "print(f\"Lista modificada: {lista2}\")\n",
    "\n",
    "# Probar la función\n",
    "crear_lista()\n"
   ]
  },
  {
   "cell_type": "markdown",
   "metadata": {},
   "source": [
    "## Ejercicio 6\n",
    "\n",
    "Dada una lista de palabras, crea una nueva lista que contenga solo las palabras que tienen más de 5 letras."
   ]
  },
  {
   "cell_type": "code",
   "execution_count": null,
   "metadata": {},
   "outputs": [],
   "source": []
  },
  {
   "cell_type": "code",
   "execution_count": 57,
   "metadata": {},
   "outputs": [
    {
     "name": "stdout",
     "output_type": "stream",
     "text": [
      "Bolachin\n",
      "Culosa\n",
      "Dinamarca\n"
     ]
    }
   ],
   "source": [
    "palabras=[\"Ave\", \"Bolachin\", \"Culosa\", \"Dinamarca\"]\n",
    "for i in range(len(palabras)):\n",
    "    if len(palabras[i])>5:\n",
    "        print(palabras[i])\n",
    "\n"
   ]
  },
  {
   "cell_type": "markdown",
   "metadata": {},
   "source": [
    "\n",
    "## Ejercicio 7\n",
    "\n",
    "A partir de una lista, escribe un programa que cree una lista nueva eliminando aquellos que están repetidos."
   ]
  },
  {
   "cell_type": "code",
   "execution_count": 80,
   "metadata": {},
   "outputs": [
    {
     "name": "stdout",
     "output_type": "stream",
     "text": [
      "Elementos comunes: [1, 2, 3, 4, 5]\n",
      "Lista 2 después de eliminar los elementos comunes: [2, 3, 3, 4, 4, 5, 5]\n",
      "Lista1 original: [1, 2, 3, 4, 5]\n",
      "Lista 2 original: [2, 3, 3, 4, 4, 5, 5]\n",
      "Lista Copiada con .copy(): [1, 2, 2, 3, 3, 3, 4, 4, 4, 5, 5, 5]\n",
      "Lista Elementos agregados: {1, 2, 3, 4, 5}\n"
     ]
    }
   ],
   "source": [
    "\n",
    "lista = [1, 2, 3, 4, 5]\n",
    "lista2 = [1, 2, 2, 3, 3, 3, 4, 4, 4, 5, 5, 5]\n",
    "eliminador = []\n",
    "elementos_agregados = set()\n",
    "\n",
    "# Hacer una copia de lista2 para iterar\n",
    "lista2_copy = lista2.copy()\n",
    "\n",
    "for i in range(len(lista)):\n",
    "    for j in range(len(lista2_copy)):\n",
    "        if lista[i] == lista2_copy[j] and lista2_copy[j] not in elementos_agregados:\n",
    "            eliminador.append(lista2_copy[j])\n",
    "            lista2.remove(lista2_copy[j])  # Eliminar de lista2 en lugar de lista2_copy\n",
    "            elementos_agregados.add(lista2_copy[j])\n",
    "\n",
    "print(f\"Elementos comunes: {eliminador}\")\n",
    "print(f\"Lista 2 después de eliminar los elementos comunes: {lista2}\")\n",
    "print(f\"Lista1 original: {lista}\")\n",
    "print(f\"Lista 2 original: {lista2}\")\n",
    "print(f\"Lista Copiada con .copy(): {lista2_copy}\")\n",
    "print(f\"Lista Elementos agregados: {elementos_agregados}\")\n",
    "\n",
    "\n",
    "\n"
   ]
  },
  {
   "cell_type": "markdown",
   "metadata": {},
   "source": [
    "## Ejercicio 8\n",
    "\n",
    "Escribe una función que reciba dos listas y devuelva una tercera con los elementos comunes a ambas."
   ]
  },
  {
   "cell_type": "code",
   "execution_count": null,
   "metadata": {},
   "outputs": [
    {
     "name": "stdout",
     "output_type": "stream",
     "text": [
      "Lista Elementos comunes: {1, 2, 3, 4, 5}\n",
      "Lista 1: [1, 2, 3, 4, 5]\n",
      "Lista 1: [1, 2, 2, 3, 3, 3, 4, 4, 4, 5, 5, 5]\n"
     ]
    }
   ],
   "source": [
    "lista = [1, 2, 3, 4, 5]\n",
    "lista2 = [1, 2, 2, 3, 3, 3, 4, 4, 4, 5, 5, 5]\n",
    "eliminador = []\n",
    "elementos_agregados = set()\n",
    "\n",
    "for i in range(len(lista)):\n",
    "    for j in range(len(lista2)):\n",
    "        if lista[i] == lista2[j]:\n",
    "            eliminador.append(lista2[j])\n",
    "            elementos_agregados.add(lista2[j])\n",
    "print(f\"Lista Elementos comunes: {elementos_agregados}\")\n",
    "print(f\"Lista 1: {lista}\")\n",
    "print(f\"Lista 2: {lista2}\")\n",
    "\n"
   ]
  },
  {
   "cell_type": "code",
   "execution_count": null,
   "metadata": {},
   "outputs": [
    {
     "name": "stdout",
     "output_type": "stream",
     "text": [
      "El elemento 0 es igual a 0\n",
      "El elemento 1 es igual a 1\n",
      "El elemento 1 es igual a 2\n",
      "El elemento 2 es igual a 3\n",
      "El elemento 2 es igual a 4\n",
      "El elemento 2 es igual a 5\n",
      "El elemento 3 es igual a 6\n",
      "El elemento 3 es igual a 7\n",
      "El elemento 3 es igual a 8\n",
      "El elemento 4 es igual a 9\n",
      "El elemento 4 es igual a 10\n",
      "El elemento 4 es igual a 11\n",
      "{1, 2, 3, 4, 5}\n"
     ]
    }
   ],
   "source": [
    "lista = [1, 2, 3, 4, 5]\n",
    "lista2 =[1,2,2,3,3,3,4,4,4,5,5,5]\n",
    "total =set()\n",
    "for i in range(len(lista)):\n",
    "    for j in range(len(lista2)):\n",
    "        if lista[i] == lista2[j]:\n",
    "            total.add(lista2[j])\n",
    "print(total)"
   ]
  },
  {
   "cell_type": "code",
   "execution_count": null,
   "metadata": {},
   "outputs": [],
   "source": []
  },
  {
   "cell_type": "markdown",
   "metadata": {},
   "source": [
    "## Ejercicio 9\n",
    "\n",
    "Utilizando una lista, escribe una función a la que se le pase el número del mes y devuelva su nombre.\n",
    "\n",
    "Crea un programa principal para probarla.\n"
   ]
  },
  {
   "cell_type": "code",
   "execution_count": 83,
   "metadata": {},
   "outputs": [
    {
     "name": "stdout",
     "output_type": "stream",
     "text": [
      "El mes correspondiente al número 5 es Mayo.\n"
     ]
    }
   ],
   "source": [
    "def obtener_nombre_mes() -> None:\n",
    "    \"\"\"Solicita el número del mes y muestra el nombre del mes correspondiente.\"\"\"\n",
    "    # Crear el diccionario de meses\n",
    "    meses = {\n",
    "        1: \"Enero\",\n",
    "        2: \"Febrero\",\n",
    "        3: \"Marzo\",\n",
    "        4: \"Abril\",\n",
    "        5: \"Mayo\",\n",
    "        6: \"Junio\",\n",
    "        7: \"Julio\",\n",
    "        8: \"Agosto\",\n",
    "        9: \"Septiembre\",\n",
    "        10: \"Octubre\",\n",
    "        11: \"Noviembre\",\n",
    "        12: \"Diciembre\"\n",
    "    }\n",
    "    \n",
    "    try:\n",
    "        # Solicitar el número del mes al usuario\n",
    "        numero_mes = int(input(\"Introduce el número del mes (1-12): \"))\n",
    "\n",
    "        # Verificar que el número esté en el rango adecuado\n",
    "        if numero_mes < 1 or numero_mes > 12:\n",
    "            print(\"Por favor, introduce un número válido entre 1 y 12.\")\n",
    "        else:\n",
    "            # Mostrar el nombre del mes correspondiente\n",
    "            nombre_mes = meses.get(numero_mes)\n",
    "            print(f\"El mes correspondiente al número {numero_mes} es {nombre_mes}.\")\n",
    "\n",
    "    except ValueError:\n",
    "        print(\"Por favor, introduce un número válido.\")\n",
    "\n",
    "# Probar la función\n",
    "obtener_nombre_mes()\n"
   ]
  },
  {
   "cell_type": "markdown",
   "metadata": {},
   "source": [
    "\n",
    "## Ejercicio 10\n",
    "\n",
    "Busca el algoritmo para calcular la letra del DNI y crea una función que use listas para devolver la letra del mismo."
   ]
  },
  {
   "cell_type": "markdown",
   "metadata": {},
   "source": [
    "# Listas anidadas\n",
    "\n"
   ]
  },
  {
   "cell_type": "markdown",
   "metadata": {},
   "source": [
    "## Ejercicio 11\n",
    "\n",
    "Utiliza una lista bidimensional para almacenar las temperaturas máximas de cada día de cada mes. Cada mes será una fila y las temperaturas estarán en columnas.\n",
    "\n",
    "Muestra las medias de cada mes."
   ]
  },
  {
   "cell_type": "markdown",
   "metadata": {},
   "source": [
    "## Ejercicio 12\n",
    "\n",
    "Crea una lista bidimensional con las notas de lxs alumnxs de una clase en los diferentes módulos. Cada fila será un alumnx y cada columna, las notas de un módulo.\n",
    "\n",
    "Calcula la media de notas de un alumno.\n",
    "Repite este apartado utilizando bucles que accedan por índices a la lista.\n",
    "\n",
    "AVANZADO: Calcula la media de notas de un módulo.\n",
    "\n",
    "Crea una nueva lista con las medias de cada uno de los módulos. (Este ejercicio es más complicado, puesto que debe recorrerse primero por columnas y luego por filas, usa los bucles que acceden por índices a la lista)."
   ]
  },
  {
   "cell_type": "markdown",
   "metadata": {},
   "source": [
    "## Ejercicio 13\n",
    "\n",
    "Crea una lista bidimensional de 6 filas y 7 columnas con valores aleatorios entre 0 y 9.\n",
    "\n",
    "Muéstrala por pantalla.\n",
    "\n",
    "Recórrela y almacena en una variable cuántos números pares hay en ella y almacena en otra cuántos impares.\n",
    "\n",
    "Muestra los resultados por pantalla.\n",
    "\n",
    "Vuelve a recorrerla para crear una lista unidimensional nueva con los números pares que aparecen en ella y otra con los impares."
   ]
  },
  {
   "cell_type": "markdown",
   "metadata": {},
   "source": [
    "## Ejercicio 14\n",
    "\n",
    "Crea una lista bidimensional que contenga los agrupamientos del alumnado de una clase para un determinado proyecto. La lista contendrá otras listas con los componentes de cada grupo.\n",
    "\n",
    "Muestra la lista por pantalla, con los componentes de cada grupo en una misma línea. Haz que no aparezcan los []. Por ejemplo:\n",
    "\n",
    "```python\n",
    "Luis, Juan\n",
    "María, Elba, Mario\n",
    "Carola\n",
    "Pablo, Manuel, Raquel, Uxía\n",
    "```"
   ]
  },
  {
   "cell_type": "markdown",
   "metadata": {},
   "source": [
    "## Ejercicio 15\n",
    "\n",
    "Crea una lista bidimensional 3x3 que sirva para jugar al tres en raya, almacenará 3 posibles cadenas, una cadena vacía para indicar que no se ha puesto una ficha en esa posición, una 'o' para indicar que ha jugado el jugador 1 y una 'x' para el jugador 2.\n",
    "\n",
    "Crea una función que la recorra y que busque si se ha producido 3 en raya para el jugador 1 en alguna de las filas.\n",
    "\n",
    "Crea una función que la recorra y que busque si se ha producido 3 en raya para el jugador 1 en alguna de las columnas.\n",
    "\n",
    "**AVANZADO**: Crea una función que la recorra y que busque si se ha producido 3 en raya para el jugador 1 en alguna de las diagonales.\n",
    "\n",
    "**AVANZADO**: Crea una función que la recorra y que busque si se ha producido 3 en raya para algún jugador.\n",
    "\n",
    "**AVANZADO**: Completa el ejercicio para que dos jugadores puedan jugar al 3 en raya.\n"
   ]
  },
  {
   "cell_type": "markdown",
   "metadata": {},
   "source": [
    "# Comprensión de listas (AVANZADO)\n"
   ]
  },
  {
   "cell_type": "markdown",
   "metadata": {},
   "source": [
    "## Ejercicio 16\n",
    "\n",
    "Crea una lista con las 10 primeras potencias de 3."
   ]
  },
  {
   "cell_type": "markdown",
   "metadata": {},
   "source": [
    "## Ejercicio 17\n",
    "\n",
    "Crea una lista con los 100 primeros múltiplos de 7."
   ]
  },
  {
   "cell_type": "markdown",
   "metadata": {},
   "source": [
    "## Ejercicio 18\n",
    "\n",
    "Utilizando comprensión de listas, vuelve a resolver el ejercicio 3."
   ]
  },
  {
   "cell_type": "markdown",
   "metadata": {},
   "source": [
    "## Ejercicio 19\n",
    "\n",
    "Utilizando comprensión de listas, vuelve a resolver el ejercicio 4."
   ]
  },
  {
   "cell_type": "markdown",
   "metadata": {},
   "source": [
    "## Ejercicio 20\n",
    "\n",
    "Utilizando comprensión de listas, vuelve a resolver el ejercicio 6."
   ]
  },
  {
   "cell_type": "markdown",
   "metadata": {},
   "source": [
    "## Ejercicio 21\n",
    "\n",
    "Crea una lista con los números que sean múltiplos de 3 o de 5 hasta el 100."
   ]
  },
  {
   "cell_type": "markdown",
   "metadata": {},
   "source": [
    "## Ejercicio 22\n",
    "\n",
    "Crea una lista con los divisores de un número que se pasa por teclado."
   ]
  },
  {
   "cell_type": "markdown",
   "metadata": {},
   "source": [
    "## Ejercicio 23\n",
    "\n",
    "Crea una lista con los años que son bisiestos a partir de una lista de años.\n",
    "\n",
    "Por ejemplo, a partir de [1995, 2004, 2003, 1900, 2008] debe devolver [2004, 2008].\n",
    "\n",
    "Debes utilizar la función `es_bisiesto(anho)` creada en el tema anterior y comprensión de listas."
   ]
  }
 ],
 "metadata": {
  "kernelspec": {
   "display_name": "Python 3",
   "language": "python",
   "name": "python3"
  },
  "language_info": {
   "codemirror_mode": {
    "name": "ipython",
    "version": 3
   },
   "file_extension": ".py",
   "mimetype": "text/x-python",
   "name": "python",
   "nbconvert_exporter": "python",
   "pygments_lexer": "ipython3",
   "version": "3.13.1"
  }
 },
 "nbformat": 4,
 "nbformat_minor": 2
}
