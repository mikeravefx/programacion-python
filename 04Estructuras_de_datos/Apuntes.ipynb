{
 "cells": [
  {
   "cell_type": "code",
   "execution_count": 28,
   "metadata": {},
   "outputs": [
    {
     "name": "stdout",
     "output_type": "stream",
     "text": [
      "Bienvenido al programa de gestión de regalos\n",
      "Se han introducido 'monopoly' como regalo.\n",
      "Se han introducido 'monopoly' como regalo.\n",
      "Se han introducido 'monopoly' como regalo.\n",
      "Se han introducido 'monopoly' como regalo.\n",
      "Se han introducido 'bola' como regalo.\n",
      "Se han introducido 'bola' como regalo.\n",
      "Se han introducido 'bola' como regalo.\n",
      "Se han introducido 'bola' como regalo.\n",
      "Se han introducido 'bola' como regalo.\n",
      "Se han introducido 'playstation' como regalo.\n",
      "Se han introducido 'playstation' como regalo.\n",
      "Se han introducido 'playstation' como regalo.\n",
      "Se han introducido 'playstation' como regalo.\n",
      "Se han introducido 13 regalos.\n",
      "Lista de regalos introducidos: ['monopoly', 'monopoly', 'monopoly', 'monopoly', 'bola', 'bola', 'bola', 'bola', 'bola', 'playstation', 'playstation', 'playstation', 'playstation']\n",
      "'playstation' se ha pedido 4 veces.\n"
     ]
    }
   ],
   "source": [
    "# Importar módulo typing para usar type hints\n",
    "import typing as total_types\n",
    "\n",
    "# Función para gestionar los regalos pedidos a Papá Noel\n",
    "lista_regalos= set()\n",
    "\n",
    "def gestion_regalos() -> total_types.List[str]:\n",
    "    \"\"\"Función para gestionar los regalos pedidos a Papá Noel.\"\"\"\n",
    "    print(\"Bienvenido al programa de gestión de regalos\")\n",
    "    # Lista para almacenar los regalos\n",
    "    regalos = []\n",
    "    # Bucle para solicitar regalos al usuario\n",
    "    while True:\n",
    "        try:\n",
    "            # Solicitar un regalo\n",
    "            regalo = input(\"Escribe un regalo: \")\n",
    "            # Agregar el regalo a la lista\n",
    "            regalos.append(regalo)\n",
    "            lista_regalos.add(regalo)\n",
    "            # Imprimir la lista de regalos introducidos\n",
    "            print(f\"Se han introducido '{regalo}' como regalo.\")\n",
    "            # Preguntar si se quiere seguir introduciendo más regalos\n",
    "            continuar = input(\"¿Quieres introducir más regalos Si o No == > para terminar \").strip().lower()\n",
    "            if continuar == \"no\":\n",
    "                break  # Salir del bucle si el usuario escribe \"no\"\n",
    "        except ValueError:\n",
    "            # Manejar cualquier error que ocurra durante la entrada\n",
    "            print(\"Por favor, escribe una respuesta válida.\")\n",
    "\n",
    "    # Imprimir la cantidad de regalos introducidos\n",
    "    print(f\"Se han introducido {len(regalos)} regalos.\")\n",
    "    return regalos  # Devolver la lista de regalos\n",
    "\n",
    "# Función para contar cuántas veces se ha pedido un regalo específico\n",
    "def contar_regalos(regalos: total_types.List[str], regalo_buscado: str) -> int:\n",
    "    \"\"\"Función para contar cuántas veces se ha pedido un regalo específico.\"\"\"\n",
    "    return regalos.count(regalo_buscado)\n",
    "\n",
    "# Obtener la lista de regalos y pedir al usuario que ingrese el nombre del regalo a buscar\n",
    "lista_regalos = gestion_regalos()\n",
    "print(f\"Lista de regalos introducidos: {lista_regalos}\")\n",
    "regalo_buscado = input(\"Escribe el nombre del regalo que deseas contar: \").strip()\n",
    "# Contar cuántas veces se ha pedido un regalo específico\n",
    "resultado = contar_regalos(lista_regalos, regalo_buscado)\n",
    "print(f\"'{regalo_buscado}' se ha pedido {resultado} veces.\")\n",
    "\n",
    "\n",
    "\n",
    "\n",
    "\n",
    "\n",
    "\n",
    "\n",
    "# Explicación del código:\n",
    "\t# 1.\tParte a):\n",
    "\t# •\tSe utiliza un bucle while que permite introducir regalos hasta que el usuario escriba “No”.\n",
    "\t# •\tCada regalo se agrega a la lista regalos usando el método append.\n",
    "\t# •\tAl final, se imprime la lista de regalos recopilados.\n",
    "\t# 2.\tParte b):\n",
    "\t# •\tLa función count de Python, disponible para listas, devuelve de forma eficiente el número de apariciones de un elemento en la lista.\n",
    "\t# •\tLa función contar_regalos toma como entrada la lista de regalos y el nombre del regalo buscado, devolviendo el resultado con una sola línea de código.\n",
    "\n",
    "# Este código es limpio, eficiente y cumple con los requisitos propuestos.\n"
   ]
  },
  {
   "cell_type": "markdown",
   "metadata": {},
   "source": [
    "Imigina que varios niños piden varios regalos"
   ]
  },
  {
   "cell_type": "markdown",
   "metadata": {},
   "source": [
    "Crear una lista con n numeros:\n",
    "\n"
   ]
  },
  {
   "cell_type": "code",
   "execution_count": null,
   "metadata": {},
   "outputs": [
    {
     "name": "stdout",
     "output_type": "stream",
     "text": [
      "La lista de dobles es: [2, 4, 6]\n"
     ]
    }
   ],
   "source": [
    "def crear_lista() -> list:\n",
    "    \"\"\"Crea una lista de valores ingresados por el usuario.\"\"\"\n",
    "    lista = []\n",
    "    while True:  # Bucle infinito mientras no pongas \"fin\"\n",
    "        try:\n",
    "            # CONDICIONES DEL TRY CON EXCEPTION \n",
    "            valor = input(\"Introduce un número (o escribe 'fin' para terminar): \")\n",
    "            if valor.lower() == 'fin':  # Salir del bucle\n",
    "                break\n",
    "            lista.append(int(valor) * 2)  # Multiplica el valor a entero * 2\n",
    "        except ValueError:\n",
    "            print(\"Por favor, introduce un número válido.\")\n",
    "    return lista\n",
    "\n",
    "def imprimir_lista(lista: list) -> None:\n",
    "    \"\"\"Imprime la lista de valores ingresados por el usuario.\"\"\"\n",
    "    print(f\"La lista de dobles es: {lista}\")\n",
    "\n",
    "# Probar las funciones\n",
    "lista = crear_lista()\n",
    "imprimir_lista(lista)"
   ]
  },
  {
   "cell_type": "markdown",
   "metadata": {},
   "source": [
    "Susutituir por un elemento un algo en una lista"
   ]
  },
  {
   "cell_type": "code",
   "execution_count": 3,
   "metadata": {},
   "outputs": [
    {
     "name": "stdout",
     "output_type": "stream",
     "text": [
      "Lista original: [1, 2, -1, -3, 4, 5]\n",
      "Lista modificada: [1, 2, 0, 0, 4, 5]\n"
     ]
    }
   ],
   "source": [
    "def crear_lista() -> None:\n",
    "    \"\"\"Crea una lista de valores ingresados por el usuario y muestra una lista modificada.\"\"\"\n",
    "lista = []\n",
    "lista2 = []\n",
    "while True:\n",
    "        try:\n",
    "            valor = input(\"Introduce un número (o escribe 'fin' para terminar): \")\n",
    "            if valor.lower() == 'fin':  # Salir del bucle\n",
    "                break\n",
    "            valor = int(valor)  # Convertir el valor a entero\n",
    "            lista.append(valor)  # Agregar a la lista original\n",
    "            if valor < 0:\n",
    "                lista2.append(0)  # Sustituir por 0 si el valor es menor que 0\n",
    "            else:\n",
    "                lista2.append(valor)  # Mantener el valor original si no es menor que 0\n",
    "        except ValueError:\n",
    "            print(\"Por favor, introduce un número válido.\")\n",
    "print(f\"Lista original: {lista}\")\n",
    "print(f\"Lista modificada: {lista2}\")\n",
    "\n",
    "# Probar la función\n",
    "crear_lista()"
   ]
  },
  {
   "cell_type": "markdown",
   "metadata": {},
   "source": [
    "Funciones para comparar elementos comunes en dos listas\n",
    "y generar una tercera con los comunes haciendo una variable tipo conjunto y ejecutando el add a ese conjunto."
   ]
  },
  {
   "cell_type": "code",
   "execution_count": 1,
   "metadata": {},
   "outputs": [
    {
     "name": "stdout",
     "output_type": "stream",
     "text": [
      "Resultado de la tupla: ([1, 2, 3, 4, 5], [1, 2, 3, 4, 5])\n"
     ]
    }
   ],
   "source": [
    "from typing import List, Tuple\n",
    "\n",
    "def obtener_tupla(lista1: List[int], lista2: List[int]) -> Tuple[List[int], List[int]]:\n",
    "    \"\"\"Devuelve una tupla con dos listas: la original y los elementos comunes sin duplicados.\"\"\"\n",
    "    eliminador = []\n",
    "    elementos_agregados = set()\n",
    "    \n",
    "    for i in range(len(lista1)):\n",
    "        for j in range(len(lista2)):\n",
    "            if lista1[i] == lista2[j] and lista2[j] not in elementos_agregados:\n",
    "                eliminador.append(lista2[j])\n",
    "                elementos_agregados.add(lista2[j])\n",
    "    \n",
    "    return (lista1, eliminador)\n",
    "\n",
    "# Probar la función\n",
    "lista1 = [1, 2, 3, 4, 5]\n",
    "lista2 = [1, 2, 2, 3, 3, 3, 4, 4, 4, 5, 5, 5]\n",
    "resultado_tupla = obtener_tupla(lista1, lista2)\n",
    "print(f\"Resultado de la tupla: {resultado_tupla}\")\n"
   ]
  },
  {
   "cell_type": "code",
   "execution_count": 6,
   "metadata": {},
   "outputs": [
    {
     "name": "stdout",
     "output_type": "stream",
     "text": [
      "Lista de comununes: {1, 2, 3, 4, 5}\n",
      "Lista de comunes: 1, 2, 3, 4, 5\n"
     ]
    }
   ],
   "source": [
    "# Modo Sencillo\n",
    "lista = [1, 2, 3, 4, 5]\n",
    "lista2 =[1,2,2,3,3,3,4,4,4,5,5,5]\n",
    "total =set()\n",
    "for i in range(len(lista)):\n",
    "    for j in range(len(lista2)):\n",
    "        if lista[i] == lista2[j]:\n",
    "            total.add(lista2[j])\n",
    "print(f\"Lista de comununes: {total}\")\n",
    "print(\"Lista de comunes: \" + \", \".join(str(x) for x in total))"
   ]
  },
  {
   "cell_type": "code",
   "execution_count": null,
   "metadata": {},
   "outputs": [],
   "source": []
  },
  {
   "cell_type": "code",
   "execution_count": 14,
   "metadata": {},
   "outputs": [
    {
     "name": "stdout",
     "output_type": "stream",
     "text": [
      "{'a': 1, 'b': 2, ' c': 3}\n"
     ]
    }
   ],
   "source": [
    "import re\n",
    "\n",
    "# Diccionario original con caracteres especiales y espacios\n",
    "diccionario = {\n",
    "    \"a(/&)&)/&)/(&)/(/)/(&)%/&%$/$\": 1,\n",
    "    \"b)(/&)/(&)/(&)/()&\": 2,\n",
    "    \")(/=(/)/=()/ c\": 3\n",
    "}\n",
    "\n",
    "# Función para limpiar las claves del diccionario\n",
    "def limpiar_claves(diccionario):\n",
    "    diccionario_limpio = {}\n",
    "    for clave, valor in diccionario.items():\n",
    "        # Eliminar todo excepto letras, números y espacios\n",
    "        clave_limpia = re.sub(r'[^a-zA-Z0-9 ]', '', clave)  \n",
    "        diccionario_limpio[clave_limpia] = valor\n",
    "    return diccionario_limpio\n",
    "\n",
    "# Limpiar las claves del diccionario\n",
    "diccionario_limpio = limpiar_claves(diccionario)\n",
    "\n",
    "# Imprimir el diccionario limpio\n",
    "print(diccionario_limpio)\n",
    "\n"
   ]
  },
  {
   "cell_type": "code",
   "execution_count": null,
   "metadata": {},
   "outputs": [
    {
     "name": "stdout",
     "output_type": "stream",
     "text": [
      "Resultado del diccionario: {'lista1': [1, 2, 3, 4, 5], 'Lista2': [1, 2, 2, 3, 3, 3, 4, 4, 4, 5, 5, 5], 'eliminador': [1, 2, 3, 4, 5]}\n"
     ]
    }
   ],
   "source": [
    "from typing import List, Dict\n",
    "\n",
    "def obtener_diccionario(lista1: List[int], lista2: List[int]) -> Dict[str, List[int]]:\n",
    "    \"\"\"Devuelve un diccionario con las listas original y de elementos comunes sin duplicados.\"\"\"\n",
    "    eliminador = []\n",
    "    elementos_agregados = set()\n",
    "    \n",
    "    for i in range(len(lista1)):\n",
    "        for j in range(len(lista2)):\n",
    "            if lista1[i] == lista2[j] and lista2[j] not in elementos_agregados:\n",
    "                eliminador.append(lista2[j])\n",
    "                elementos_agregados.add(lista2[j])\n",
    "    \n",
    "    return {\"lista1\": lista1, \"Lista2\" : lista2, \"Elementos comunes\": eliminador}\n",
    "\n",
    "# Probar la función\n",
    "resultado_diccionario = obtener_diccionario(lista1, lista2)\n",
    "print(f\"Resultado del diccionario: {resultado_diccionario}\")\n"
   ]
  },
  {
   "cell_type": "markdown",
   "metadata": {},
   "source": [
    "Comparar tres listas y compararlas y elminar sus caracteres especiales con re re.sub(r'[^a-zA-Z0-9\\s]', '', frase)"
   ]
  },
  {
   "cell_type": "code",
   "execution_count": null,
   "metadata": {},
   "outputs": [
    {
     "name": "stdout",
     "output_type": "stream",
     "text": [
      "Frases comunes: Qu tal, Estoy aprendiendo Python\n"
     ]
    }
   ],
   "source": [
    "import re\n",
    "from typing import List\n",
    "\n",
    "def limpiar_frases(lista: List[str]) -> List[str]:\n",
    "    \"\"\"Elimina caracteres especiales y espacios innecesarios de las frases en una lista.\"\"\"\n",
    "    lista_limpia = []\n",
    "    for frase in lista:\n",
    "        frase_limpia = re.sub(r'[^a-zA-Z0-9\\s]', '', frase)  # Elimina caracteres especiales, excepto letras, números y espacios\n",
    "        lista_limpia.append(frase_limpia)\n",
    "    return lista_limpia\n",
    "def comparar_listas(lista1: List[str], lista2: List[str], lista3: List[str]) -> List[str]:\n",
    "    \"\"\"Compara tres listas de frases y devuelve las frases comunes.\"\"\"\n",
    "    # Convertir listas a conjuntos para encontrar intersecciones\n",
    "    set1 = set(lista1)\n",
    "    set2 = set(lista2)\n",
    "    set3 = set(lista3)\n",
    "# Encontrar las frases comunes en los tres conjuntos\n",
    "    comunes = set1 & set2 & set3\n",
    "    return list(comunes)\n",
    "\n",
    "# Listas de ejemplo con frases\n",
    "lista1 = [\"Hola, ¿cómo estás?\", \"¡Buenos días!\", \"Estoy aprendiendo Python.\", \"¿Qué tal?\"]\n",
    "lista2 = [\"¡Buenos días!\", \"Estoy aprendiendo Python.\", \"Python es divertido.\", \"¿Qué tal?\"]\n",
    "lista3 = [\"Hola, ¿cómo estás?\", \"Estoy aprendiendo Python.\", \"¿Qué tal?\", \"¡Hola, mundo!\"]\n",
    "\n",
    "# Limpiar las frases en cada lista\n",
    "lista1_limpia = limpiar_frases(lista1)\n",
    "lista2_limpia = limpiar_frases(lista2)\n",
    "lista3_limpia = limpiar_frases(lista3)\n",
    "\n",
    "# Comparar las listas limpias para encontrar frases comunes\n",
    "frases_comunes = comparar_listas(lista1_limpia, lista2_limpia, lista3_limpia)\n",
    "\n",
    "# Imprimir las frases comunes\n",
    "print(\"Frases comunes:\", \", \".join(frases_comunes))\n"
   ]
  }
 ],
 "metadata": {
  "kernelspec": {
   "display_name": "Python 3",
   "language": "python",
   "name": "python3"
  },
  "language_info": {
   "codemirror_mode": {
    "name": "ipython",
    "version": 3
   },
   "file_extension": ".py",
   "mimetype": "text/x-python",
   "name": "python",
   "nbconvert_exporter": "python",
   "pygments_lexer": "ipython3",
   "version": "3.13.1"
  }
 },
 "nbformat": 4,
 "nbformat_minor": 2
}
