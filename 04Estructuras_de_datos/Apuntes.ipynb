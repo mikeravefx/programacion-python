{
 "cells": [
  {
   "cell_type": "code",
   "execution_count": 28,
   "metadata": {},
   "outputs": [
    {
     "name": "stdout",
     "output_type": "stream",
     "text": [
      "Bienvenido al programa de gestión de regalos\n",
      "Se han introducido 'monopoly' como regalo.\n",
      "Se han introducido 'monopoly' como regalo.\n",
      "Se han introducido 'monopoly' como regalo.\n",
      "Se han introducido 'monopoly' como regalo.\n",
      "Se han introducido 'bola' como regalo.\n",
      "Se han introducido 'bola' como regalo.\n",
      "Se han introducido 'bola' como regalo.\n",
      "Se han introducido 'bola' como regalo.\n",
      "Se han introducido 'bola' como regalo.\n",
      "Se han introducido 'playstation' como regalo.\n",
      "Se han introducido 'playstation' como regalo.\n",
      "Se han introducido 'playstation' como regalo.\n",
      "Se han introducido 'playstation' como regalo.\n",
      "Se han introducido 13 regalos.\n",
      "Lista de regalos introducidos: ['monopoly', 'monopoly', 'monopoly', 'monopoly', 'bola', 'bola', 'bola', 'bola', 'bola', 'playstation', 'playstation', 'playstation', 'playstation']\n",
      "'playstation' se ha pedido 4 veces.\n"
     ]
    }
   ],
   "source": [
    "# Importar módulo typing para usar type hints\n",
    "import typing as total_types\n",
    "\n",
    "# Función para gestionar los regalos pedidos a Papá Noel\n",
    "lista_regalos= set()\n",
    "\n",
    "def gestion_regalos() -> total_types.List[str]:\n",
    "    \"\"\"Función para gestionar los regalos pedidos a Papá Noel.\"\"\"\n",
    "    print(\"Bienvenido al programa de gestión de regalos\")\n",
    "    # Lista para almacenar los regalos\n",
    "    regalos = []\n",
    "    # Bucle para solicitar regalos al usuario\n",
    "    while True:\n",
    "        try:\n",
    "            # Solicitar un regalo\n",
    "            regalo = input(\"Escribe un regalo: \")\n",
    "            # Agregar el regalo a la lista\n",
    "            regalos.append(regalo)\n",
    "            lista_regalos.add(regalo)\n",
    "            # Imprimir la lista de regalos introducidos\n",
    "            print(f\"Se han introducido '{regalo}' como regalo.\")\n",
    "            # Preguntar si se quiere seguir introduciendo más regalos\n",
    "            continuar = input(\"¿Quieres introducir más regalos Si o No == > para terminar \").strip().lower()\n",
    "            if continuar == \"no\":\n",
    "                break  # Salir del bucle si el usuario escribe \"no\"\n",
    "        except ValueError:\n",
    "            # Manejar cualquier error que ocurra durante la entrada\n",
    "            print(\"Por favor, escribe una respuesta válida.\")\n",
    "\n",
    "    # Imprimir la cantidad de regalos introducidos\n",
    "    print(f\"Se han introducido {len(regalos)} regalos.\")\n",
    "    return regalos  # Devolver la lista de regalos\n",
    "\n",
    "# Función para contar cuántas veces se ha pedido un regalo específico\n",
    "def contar_regalos(regalos: total_types.List[str], regalo_buscado: str) -> int:\n",
    "    \"\"\"Función para contar cuántas veces se ha pedido un regalo específico.\"\"\"\n",
    "    return regalos.count(regalo_buscado)\n",
    "\n",
    "# Obtener la lista de regalos y pedir al usuario que ingrese el nombre del regalo a buscar\n",
    "lista_regalos = gestion_regalos()\n",
    "print(f\"Lista de regalos introducidos: {lista_regalos}\")\n",
    "regalo_buscado = input(\"Escribe el nombre del regalo que deseas contar: \").strip()\n",
    "# Contar cuántas veces se ha pedido un regalo específico\n",
    "resultado = contar_regalos(lista_regalos, regalo_buscado)\n",
    "print(f\"'{regalo_buscado}' se ha pedido {resultado} veces.\")\n",
    "\n",
    "\n",
    "\n",
    "\n",
    "\n",
    "\n",
    "\n",
    "\n",
    "# Explicación del código:\n",
    "\t# 1.\tParte a):\n",
    "\t# •\tSe utiliza un bucle while que permite introducir regalos hasta que el usuario escriba “No”.\n",
    "\t# •\tCada regalo se agrega a la lista regalos usando el método append.\n",
    "\t# •\tAl final, se imprime la lista de regalos recopilados.\n",
    "\t# 2.\tParte b):\n",
    "\t# •\tLa función count de Python, disponible para listas, devuelve de forma eficiente el número de apariciones de un elemento en la lista.\n",
    "\t# •\tLa función contar_regalos toma como entrada la lista de regalos y el nombre del regalo buscado, devolviendo el resultado con una sola línea de código.\n",
    "\n",
    "# Este código es limpio, eficiente y cumple con los requisitos propuestos.\n"
   ]
  },
  {
   "cell_type": "markdown",
   "metadata": {},
   "source": [
    "Imigina que varios niños piden varios regalos"
   ]
  },
  {
   "cell_type": "code",
   "execution_count": 29,
   "metadata": {},
   "outputs": [
    {
     "name": "stdout",
     "output_type": "stream",
     "text": [
      "Bienvenido al programa de gestión de regalos\n",
      "\n",
      "Registrando regalos para Miguel.\n",
      "Se han introducido 9 regalos para Miguel.\n",
      "\n",
      "Registrando regalos para miguel.\n",
      "Se han introducido 1 regalos para miguel.\n",
      "\n",
      "Registrando regalos para Juan.\n",
      "Se han introducido 12 regalos para Juan.\n",
      "\n",
      "Lista de regalos introducidos por niño: {'Miguel': ['monopoly', 'monopoly', 'monopoly', 'monopoly', 'monopoly', 'playstation', 'playstation', 'telefono', 'telefono'], 'miguel': ['Miguel'], 'Juan': ['telefono', 'telefono', 'telefono', 'telefono', 'monopoly', 'monopoly', 'monopoly', 'monopoly', 'monopoly', 'playstation', 'playstation', 'playstation']}\n",
      "No se encontraron regalos para el niño ''.\n"
     ]
    }
   ],
   "source": [
    "from typing import List, Dict\n",
    "\n",
    "# Función para gestionar los regalos pedidos por un niño a Papá Noel\n",
    "def gestion_regalos_nino(nombre_nino: str) -> List[str]:\n",
    "    \"\"\"Función para gestionar los regalos pedidos por un niño a Papá Noel.\"\"\"\n",
    "    print(f\"\\nRegistrando regalos para {nombre_nino}.\")\n",
    "    regalos = []\n",
    "    \n",
    "    while True:\n",
    "        try:\n",
    "            # Solicitar un regalo\n",
    "            regalo = input(\"Escribe un regalo: \")\n",
    "            # Agregar el regalo a la lista\n",
    "            regalos.append(regalo)\n",
    "            \n",
    "            # Preguntar si se quiere seguir introduciendo más regalos\n",
    "            continuar = input(\"¿Quieres introducir más regalos? Escribe No para terminar \").strip().lower()\n",
    "            if continuar == \"no\":\n",
    "                break  # Salir del bucle si el usuario escribe \"no\"\n",
    "        except ValueError:\n",
    "            # Manejar cualquier error que ocurra durante la entrada\n",
    "            print(\"Por favor, escribe una respuesta válida.\")\n",
    "    \n",
    "    # Imprimir la cantidad de regalos introducidos\n",
    "    print(f\"Se han introducido {len(regalos)} regalos para {nombre_nino}.\")\n",
    "    return regalos  # Devolver la lista de regalos\n",
    "\n",
    "# Función para contar cuántas veces se ha pedido un regalo específico\n",
    "def contar_regalos(regalos: List[str], regalo_buscado: str) -> int:\n",
    "    \"\"\"Función para contar cuántas veces se ha pedido un regalo específico.\"\"\"\n",
    "    return regalos.count(regalo_buscado)\n",
    "\n",
    "# Función principal para gestionar los regalos de todos los niños\n",
    "def gestion_regalos_todos() -> Dict[str, List[str]]:\n",
    "    \"\"\"Función para gestionar los regalos de todos los niños.\"\"\"\n",
    "    print(\"Bienvenido al programa de gestión de regalos\")\n",
    "    regalos_todos = {}\n",
    "    \n",
    "    while True:\n",
    "        try:\n",
    "            # Solicitar el nombre del niño\n",
    "            nombre_nino = input(\"Escribe el nombre del niño: \")\n",
    "            # Registrar los regalos para este niño\n",
    "            regalos_todos[nombre_nino] = gestion_regalos_nino(nombre_nino)\n",
    "            \n",
    "            # Preguntar si se quiere seguir introduciendo más niños\n",
    "            continuar = input(\"¿Quieres introducir más niños? Escribe No para terminar \").strip().lower()\n",
    "            if continuar == \"no\":\n",
    "                break  # Salir del bucle si el usuario escribe \"no\"\n",
    "        except ValueError:\n",
    "            # Manejar cualquier error que ocurra durante la entrada\n",
    "            print(\"Por favor, escribe una respuesta válida.\")\n",
    "    \n",
    "    return regalos_todos  # Devolver el diccionario con los regalos de todos los niños\n",
    "\n",
    "# Ejecución del programa\n",
    "regalos_todos = gestion_regalos_todos()\n",
    "print(f\"\\nLista de regalos introducidos por niño: {regalos_todos}\")\n",
    "\n",
    "# Contar cuántas veces se ha pedido un regalo específico\n",
    "nombre_nino = input(\"\\nEscribe el nombre del niño para buscar sus regalos: \").strip()\n",
    "if nombre_nino in regalos_todos:\n",
    "    regalo_buscado = input(\"Escribe el nombre del regalo que deseas contar: \").strip()\n",
    "    resultado = contar_regalos(regalos_todos[nombre_nino], regalo_buscado)\n",
    "    print(f\"'{regalo_buscado}' se ha pedido {resultado} veces por {nombre_nino}.\")\n",
    "else:\n",
    "    print(f\"No se encontraron regalos para el niño '{nombre_nino}'.\")\n"
   ]
  },
  {
   "cell_type": "markdown",
   "metadata": {},
   "source": [
    "Crear una lista con n numeros y multiplicar la lista por su doble\n",
    "\n"
   ]
  },
  {
   "cell_type": "code",
   "execution_count": null,
   "metadata": {},
   "outputs": [
    {
     "name": "stdout",
     "output_type": "stream",
     "text": [
      "La lista de dobles es: [2, 4, 6]\n"
     ]
    }
   ],
   "source": [
    "def crear_lista() -> list:\n",
    "    \"\"\"Crea una lista de valores ingresados por el usuario.\"\"\"\n",
    "    lista = []\n",
    "    while True:  # Bucle infinito mientras no pongas \"fin\"\n",
    "        try:\n",
    "            # CONDICIONES DEL TRY CON EXCEPTION \n",
    "            valor = input(\"Introduce un número (o escribe 'fin' para terminar): \")\n",
    "            if valor.lower() == 'fin':  # Salir del bucle\n",
    "                break\n",
    "            lista.append(int(valor) * 2)  # Multiplica el valor a entero * 2\n",
    "        except ValueError:\n",
    "            print(\"Por favor, introduce un número válido.\")\n",
    "    return lista\n",
    "\n",
    "def imprimir_lista(lista: list) -> None:\n",
    "    \"\"\"Imprime la lista de valores ingresados por el usuario.\"\"\"\n",
    "    print(f\"La lista de dobles es: {lista}\")\n",
    "\n",
    "# Probar las funciones\n",
    "lista = crear_lista()\n",
    "imprimir_lista(lista)"
   ]
  },
  {
   "cell_type": "markdown",
   "metadata": {},
   "source": [
    "Susutituir por un elemento un algo en una lista"
   ]
  },
  {
   "cell_type": "code",
   "execution_count": 3,
   "metadata": {},
   "outputs": [
    {
     "name": "stdout",
     "output_type": "stream",
     "text": [
      "Lista original: [1, 2, -1, -3, 4, 5]\n",
      "Lista modificada: [1, 2, 0, 0, 4, 5]\n"
     ]
    }
   ],
   "source": [
    "def crear_lista() -> None:\n",
    "    \"\"\"Crea una lista de valores ingresados por el usuario y muestra una lista modificada.\"\"\"\n",
    "lista = []\n",
    "lista2 = []\n",
    "while True:\n",
    "        try:\n",
    "            valor = input(\"Introduce un número (o escribe 'fin' para terminar): \")\n",
    "            if valor.lower() == 'fin':  # Salir del bucle\n",
    "                break\n",
    "            valor = int(valor)  # Convertir el valor a entero\n",
    "            lista.append(valor)  # Agregar a la lista original\n",
    "            if valor < 0:\n",
    "                lista2.append(0)  # Sustituir por 0 si el valor es menor que 0\n",
    "            else:\n",
    "                lista2.append(valor)  # Mantener el valor original si no es menor que 0\n",
    "        except ValueError:\n",
    "            print(\"Por favor, introduce un número válido.\")\n",
    "print(f\"Lista original: {lista}\")\n",
    "print(f\"Lista modificada: {lista2}\")\n",
    "\n",
    "# Probar la función\n",
    "crear_lista()"
   ]
  },
  {
   "cell_type": "markdown",
   "metadata": {},
   "source": [
    "Funciones para comparar elementos comunes en dos listas\n",
    "y generar una tercera con los comunes haciendo una variable tipo conjunto y ejecutando el add a ese conjunto."
   ]
  },
  {
   "cell_type": "code",
   "execution_count": 1,
   "metadata": {},
   "outputs": [
    {
     "name": "stdout",
     "output_type": "stream",
     "text": [
      "Resultado de la tupla: ([1, 2, 3, 4, 5], [1, 2, 3, 4, 5])\n"
     ]
    }
   ],
   "source": [
    "from typing import List, Tuple\n",
    "\n",
    "def obtener_tupla(lista1: List[int], lista2: List[int]) -> Tuple[List[int], List[int]]:\n",
    "    \"\"\"Devuelve una tupla con dos listas: la original y los elementos comunes sin duplicados.\"\"\"\n",
    "    eliminador = []\n",
    "    elementos_agregados = set()\n",
    "    \n",
    "    for i in range(len(lista1)):\n",
    "        for j in range(len(lista2)):\n",
    "            if lista1[i] == lista2[j] and lista2[j] not in elementos_agregados:\n",
    "                eliminador.append(lista2[j])\n",
    "                elementos_agregados.add(lista2[j])\n",
    "    \n",
    "    return (lista1, eliminador)\n",
    "\n",
    "# Probar la función\n",
    "lista1 = [1, 2, 3, 4, 5]\n",
    "lista2 = [1, 2, 2, 3, 3, 3, 4, 4, 4, 5, 5, 5]\n",
    "resultado_tupla = obtener_tupla(lista1, lista2)\n",
    "print(f\"Resultado de la tupla: {resultado_tupla}\")\n"
   ]
  },
  {
   "cell_type": "code",
   "execution_count": 6,
   "metadata": {},
   "outputs": [
    {
     "name": "stdout",
     "output_type": "stream",
     "text": [
      "Lista de comununes: {1, 2, 3, 4, 5}\n",
      "Lista de comunes: 1, 2, 3, 4, 5\n"
     ]
    }
   ],
   "source": [
    "# Modo Sencillo\n",
    "lista = [1, 2, 3, 4, 5]\n",
    "lista2 =[1,2,2,3,3,3,4,4,4,5,5,5]\n",
    "total =set()\n",
    "for i in range(len(lista)):\n",
    "    for j in range(len(lista2)):\n",
    "        if lista[i] == lista2[j]:\n",
    "            total.add(lista2[j])\n",
    "print(f\"Lista de comununes: {total}\")\n",
    "print(\"Lista de comunes: \" + \", \".join(str(x) for x in total))"
   ]
  },
  {
   "cell_type": "code",
   "execution_count": null,
   "metadata": {},
   "outputs": [],
   "source": []
  },
  {
   "cell_type": "code",
   "execution_count": 14,
   "metadata": {},
   "outputs": [
    {
     "name": "stdout",
     "output_type": "stream",
     "text": [
      "{'a': 1, 'b': 2, ' c': 3}\n"
     ]
    }
   ],
   "source": [
    "import re\n",
    "\n",
    "# Diccionario original con caracteres especiales y espacios\n",
    "diccionario = {\n",
    "    \"a(/&)&)/&)/(&)/(/)/(&)%/&%$/$\": 1,\n",
    "    \"b)(/&)/(&)/(&)/()&\": 2,\n",
    "    \")(/=(/)/=()/ c\": 3\n",
    "}\n",
    "\n",
    "# Función para limpiar las claves del diccionario\n",
    "def limpiar_claves(diccionario):\n",
    "    diccionario_limpio = {}\n",
    "    for clave, valor in diccionario.items():\n",
    "        # Eliminar todo excepto letras, números y espacios\n",
    "        clave_limpia = re.sub(r'[^a-zA-Z0-9 ]', '', clave)  \n",
    "        diccionario_limpio[clave_limpia] = valor\n",
    "    return diccionario_limpio\n",
    "\n",
    "# Limpiar las claves del diccionario\n",
    "diccionario_limpio = limpiar_claves(diccionario)\n",
    "\n",
    "# Imprimir el diccionario limpio\n",
    "print(diccionario_limpio)\n",
    "\n"
   ]
  },
  {
   "cell_type": "code",
   "execution_count": 3,
   "metadata": {},
   "outputs": [
    {
     "name": "stdout",
     "output_type": "stream",
     "text": [
      "Resultado del diccionario: {'lista1': [1, 2, 3, 4, 5], 'Lista2': [1, 2, 2, 3, 3, 3, 4, 4, 4, 5, 5, 5], 'eliminador': [1, 2, 3, 4, 5]}\n"
     ]
    }
   ],
   "source": [
    "from typing import List, Dict\n",
    "\n",
    "def obtener_diccionario(lista1: List[int], lista2: List[int]) -> Dict[str, List[int]]:\n",
    "    \"\"\"Devuelve un diccionario con las listas original y de elementos comunes sin duplicados.\"\"\"\n",
    "    eliminador = []\n",
    "    elementos_agregados = set()\n",
    "    \n",
    "    for i in range(len(lista1)):\n",
    "        for j in range(len(lista2)):\n",
    "            if lista1[i] == lista2[j] and lista2[j] not in elementos_agregados:\n",
    "                eliminador.append(lista2[j])\n",
    "                elementos_agregados.add(lista2[j])\n",
    "    \n",
    "    return {\"lista1\": lista1, \"Lista2\" : lista2, \"Elementos comunes\": eliminador}\n",
    "\n",
    "# Probar la función\n",
    "resultado_diccionario = obtener_diccionario(lista1, lista2)\n",
    "print(f\"Resultado del diccionario: {resultado_diccionario}\")\n"
   ]
  },
  {
   "cell_type": "markdown",
   "metadata": {},
   "source": [
    "Comparar tres listas y compararlas y elminar sus caracteres especiales con re re.sub(r'[^a-zA-Z0-9\\s]', '', frase)"
   ]
  },
  {
   "cell_type": "code",
   "execution_count": 17,
   "metadata": {},
   "outputs": [
    {
     "name": "stdout",
     "output_type": "stream",
     "text": [
      "Frases comunes: Qu tal, Estoy aprendiendo Python\n"
     ]
    }
   ],
   "source": [
    "import re\n",
    "from typing import List\n",
    "\n",
    "def limpiar_frases(lista: List[str]) -> List[str]:\n",
    "    \"\"\"Elimina caracteres especiales y espacios innecesarios de las frases en una lista.\"\"\"\n",
    "    lista_limpia = []\n",
    "    for frase in lista:\n",
    "        frase_limpia = re.sub(r'[^a-zA-Z0-9\\s]', '', frase)  # Elimina caracteres especiales, excepto letras, números y espacios\n",
    "        lista_limpia.append(frase_limpia)\n",
    "    return lista_limpia\n",
    "def comparar_listas(lista1: List[str], lista2: List[str], lista3: List[str]) -> List[str]:\n",
    "    \"\"\"Compara tres listas de frases y devuelve las frases comunes.\"\"\"\n",
    "    # Convertir listas a conjuntos para encontrar intersecciones\n",
    "    set1 = set(lista1)\n",
    "    set2 = set(lista2)\n",
    "    set3 = set(lista3)\n",
    "# Encontrar las frases comunes en los tres conjuntos\n",
    "    comunes = set1 & set2 & set3\n",
    "    return list(comunes)\n",
    "\n",
    "# Listas de ejemplo con frases\n",
    "lista1 = [\"Hola, ¿cómo estás?\", \"¡Buenos días!\", \"Estoy aprendiendo Python.\", \"¿Qué tal?\"]\n",
    "lista2 = [\"¡Buenos días!\", \"Estoy aprendiendo Python.\", \"Python es divertido.\", \"¿Qué tal?\"]\n",
    "lista3 = [\"Hola, ¿cómo estás?\", \"Estoy aprendiendo Python.\", \"¿Qué tal?\", \"¡Hola, mundo!\"]\n",
    "\n",
    "# Limpiar las frases en cada lista\n",
    "lista1_limpia = limpiar_frases(lista1)\n",
    "lista2_limpia = limpiar_frases(lista2)\n",
    "lista3_limpia = limpiar_frases(lista3)\n",
    "\n",
    "# Comparar las listas limpias para encontrar frases comunes\n",
    "frases_comunes = comparar_listas(lista1_limpia, lista2_limpia, lista3_limpia)\n",
    "\n",
    "# Imprimir las frases comunes\n",
    "print(\"Frases comunes:\", \", \".join(frases_comunes))\n"
   ]
  },
  {
   "cell_type": "markdown",
   "metadata": {},
   "source": [
    "Pregunta 1: Salida del fragmento de código\n",
    "python\n",
    "Salida: 2 1\n",
    "Explicación:\n",
    "Se reasignan las variables:\n",
    "    • z = x → z ahora es 1.\n",
    "    • x = y → x ahora es 2.\n",
    "    • y = z → y ahora es 1.\n",
    "Por lo tanto, x = 2 y y = 1."
   ]
  },
  {
   "cell_type": "code",
   "execution_count": 30,
   "metadata": {},
   "outputs": [
    {
     "name": "stdout",
     "output_type": "stream",
     "text": [
      "2 1\n"
     ]
    }
   ],
   "source": [
    "\n",
    "x = 1\n",
    "y = 2\n",
    "z = 3\n",
    "z = x\n",
    "x = y\n",
    "y = z\n",
    "print(x, y)"
   ]
  },
  {
   "cell_type": "markdown",
   "metadata": {},
   "source": [
    "Pregunta 2: Salida al introducir 2 y 4\n",
    "python\n",
    "x = input()\n",
    "y = input()\n",
    "print(x + y)\n",
    "Explicación:\n",
    "El input() devuelve cadenas. Al usar x + y, se concatenan, resultando '24'.\n"
   ]
  },
  {
   "cell_type": "code",
   "execution_count": 31,
   "metadata": {},
   "outputs": [
    {
     "name": "stdout",
     "output_type": "stream",
     "text": [
      "24\n"
     ]
    }
   ],
   "source": [
    "x = input()  # '2'\n",
    "y = input()  # '4'\n",
    "print(x + y)  # Salida: '24'"
   ]
  },
  {
   "cell_type": "markdown",
   "metadata": {},
   "source": [
    "Pregunta 3: Salida al introducir 3 y 6\n",
    "python\n",
    "Copiar código\n",
    "x = input()  # '3'\n",
    "y = int(input())  # 6\n",
    "print(x * y)  # Salida: '333333'\n",
    "Explicación:\n",
    "x es una cadena, y y es un entero. La operación x * y repite la cadena x y veces."
   ]
  },
  {
   "cell_type": "code",
   "execution_count": 32,
   "metadata": {},
   "outputs": [
    {
     "name": "stdout",
     "output_type": "stream",
     "text": [
      "333333\n"
     ]
    }
   ],
   "source": [
    "x = input()  # '3'\n",
    "y = int(input())  # 6\n",
    "print(x * y)  # Salida: '333333'"
   ]
  },
  {
   "cell_type": "markdown",
   "metadata": {},
   "source": [
    "Pregunta 4: Salida del fragmento de código\n",
    "python\n",
    "Copiar código:\n",
    "lista = [1, 2, 3, 4, 5]\n",
    "print(lista[0:3])  # [1, 2, 3]\n",
    "print(lista[-1])   # 5\n",
    "print(lista[1:4])  # [2, 3, 4]\n",
    "print(lista[1:4:2])  # [2, 4]\n",
    "print(lista[1:])  # [2, 3, 4, 5]\n",
    "print(lista[:3])  # [1, 2, 3]\n",
    "print(lista[::-1])  # [5, 4, 3, 2, 1]\n",
    "Explicación:\n",
    "Se utilizan slicing y accesos por índices para extraer o manipular los elementos de la lista.\n"
   ]
  },
  {
   "cell_type": "code",
   "execution_count": 33,
   "metadata": {},
   "outputs": [
    {
     "name": "stdout",
     "output_type": "stream",
     "text": [
      "[1, 2, 3]\n",
      "5\n",
      "[2, 3, 4]\n",
      "[2, 4]\n",
      "[2, 3, 4, 5]\n",
      "[1, 2, 3]\n",
      "[5, 4, 3, 2, 1]\n"
     ]
    }
   ],
   "source": [
    "lista = [1, 2, 3, 4, 5]\n",
    "print(lista[0:3])  # [1, 2, 3]\n",
    "print(lista[-1])   # 5\n",
    "print(lista[1:4])  # [2, 3, 4]\n",
    "print(lista[1:4:2])  # [2, 4]\n",
    "print(lista[1:])  # [2, 3, 4, 5]\n",
    "print(lista[:3])  # [1, 2, 3]\n",
    "print(lista[::-1])  # [5, 4, 3, 2, 1]"
   ]
  },
  {
   "cell_type": "markdown",
   "metadata": {},
   "source": [
    "Pregunta 5: Salida tras eliminar un elemento\n",
    "python\n",
    "Copiar código\n",
    "nums = [1, 2, 3]\n",
    "vals = nums\n",
    "del vals[1:2]\n",
    "print(nums, vals)  # Salida: [1, 3] [1, 3]\n",
    "Explicación:\n",
    "vals y nums apuntan al mismo objeto. Al modificar vals, también se modifica nums.\n"
   ]
  },
  {
   "cell_type": "code",
   "execution_count": 34,
   "metadata": {},
   "outputs": [
    {
     "name": "stdout",
     "output_type": "stream",
     "text": [
      "[1, 3] [1, 3]\n"
     ]
    }
   ],
   "source": [
    "nums = [1, 2, 3]\n",
    "vals = nums\n",
    "del vals[1:2]\n",
    "print(nums, vals)  # Salida: [1, 3] [1, 3]"
   ]
  },
  {
   "cell_type": "markdown",
   "metadata": {},
   "source": [
    "Pregunta 6: Valor asignado a x\n",
    "python\n",
    "Copiar código\n",
    "z = 10\n",
    "y = 0\n",
    "x = y < z and z > y or y > z and z < y\n",
    "print(x)  # Salida: True\n",
    "Explicación:\n",
    "La primera condición y < z and z > y es True. Como es una operación lógica con or, no se evalúan más condiciones.\n"
   ]
  },
  {
   "cell_type": "code",
   "execution_count": 35,
   "metadata": {},
   "outputs": [
    {
     "name": "stdout",
     "output_type": "stream",
     "text": [
      "True\n"
     ]
    }
   ],
   "source": [
    "z = 10\n",
    "y = 0\n",
    "x = y < z and z > y or y > z and z < y\n",
    "print(x)  # Salida: True"
   ]
  },
  {
   "cell_type": "markdown",
   "metadata": {},
   "source": [
    "Pregunta 7: Contenido de la lista\n",
    "python\n",
    "Copiar código\n",
    "l = [10 * x for x in range(5)]\n",
    "print(l)  # Salida: [0, 10, 20, 30, 40]\n",
    "Explicación:\n",
    "Se usa una list comprehension para multiplicar cada número de 0 a 4 por 10.\n"
   ]
  },
  {
   "cell_type": "code",
   "execution_count": 36,
   "metadata": {},
   "outputs": [
    {
     "name": "stdout",
     "output_type": "stream",
     "text": [
      "[0, 10, 20, 30, 40]\n"
     ]
    }
   ],
   "source": [
    "\n",
    "l = [10 * x for x in range(5)]\n",
    "print(l)  # Salida: [0, 10, 20, 30, 40]\n",
    "\n",
    "\n"
   ]
  },
  {
   "cell_type": "markdown",
   "metadata": {},
   "source": [
    "Pregunta 8: Convertir for a while\n",
    "python\n",
    "Copiar código\n",
    "Explicación:\n",
    "El bucle for se reescribe como un bucle while, inicializando y actualizando manualmente la variable i."
   ]
  },
  {
   "cell_type": "code",
   "execution_count": 37,
   "metadata": {},
   "outputs": [
    {
     "name": "stdout",
     "output_type": "stream",
     "text": [
      "0\n",
      "1\n",
      "2\n",
      "3\n",
      "4\n"
     ]
    }
   ],
   "source": [
    "i = 0\n",
    "while i < 5:\n",
    "    print(i)\n",
    "    i += 1"
   ]
  },
  {
   "cell_type": "markdown",
   "metadata": {},
   "source": [
    "Pregunta 9: Error en el código\n",
    "python\n",
    "Copiar código\n",
    "\n",
    "Explicación:\n",
    "El operador de comparación debe ser ==. Con la corrección, imprime \"1\".\n"
   ]
  },
  {
   "cell_type": "code",
   "execution_count": null,
   "metadata": {},
   "outputs": [
    {
     "ename": "SyntaxError",
     "evalue": "invalid syntax. Maybe you meant '==' or ':=' instead of '='? (2109376531.py, line 3)",
     "output_type": "error",
     "traceback": [
      "\u001b[1;36m  Cell \u001b[1;32mIn[39], line 3\u001b[1;36m\u001b[0m\n\u001b[1;33m    if x = 1:\u001b[0m\n\u001b[1;37m       ^\u001b[0m\n\u001b[1;31mSyntaxError\u001b[0m\u001b[1;31m:\u001b[0m invalid syntax. Maybe you meant '==' or ':=' instead of '='?\n"
     ]
    }
   ],
   "source": [
    "x = 1\n",
    "# if x = 1:  # Error de sintaxis, debería ser '=='\n",
    "if x == 1:\n",
    "    print(\"1\")  # Salida: '1'"
   ]
  },
  {
   "cell_type": "markdown",
   "metadata": {},
   "source": [
    "Pregunta 10: Salida del bucle anidado\n",
    "python\n",
    "Copiar código\n",
    "for i in range(1, 5):\n",
    "    for j in range(i):\n",
    "        print(i, end='')\n",
    "    print()\n",
    "Explicación:\n",
    "El bucle anidado genera:\n",
    "yaml\n",
    "Copiar código\n",
    "1\n",
    "22\n",
    "333\n",
    "4444"
   ]
  },
  {
   "cell_type": "code",
   "execution_count": 40,
   "metadata": {},
   "outputs": [
    {
     "name": "stdout",
     "output_type": "stream",
     "text": [
      "1\n",
      "22\n",
      "333\n",
      "4444\n"
     ]
    }
   ],
   "source": [
    "for i in range(1, 5):\n",
    "    for j in range(i):\n",
    "        print(i, end='')\n",
    "    print()"
   ]
  },
  {
   "cell_type": "markdown",
   "metadata": {},
   "source": [
    "Pregunta 11: Número de '*' enviados\n",
    "python\n",
    "Copiar código\n",
    "i = 0\n",
    "while i <= 10:\n",
    "    if i % 2 == 0:\n",
    "        break\n",
    "    i += 1\n",
    "    print(\"*\")\n",
    "Explicación:\n",
    "El bucle termina con break en la primera iteración. No se imprime nada."
   ]
  },
  {
   "cell_type": "code",
   "execution_count": 41,
   "metadata": {},
   "outputs": [],
   "source": [
    "i = 0\n",
    "while i <= 10:\n",
    "    if i % 2 == 0:\n",
    "        break\n",
    "    i += 1\n",
    "    print(\"*\")"
   ]
  },
  {
   "cell_type": "markdown",
   "metadata": {},
   "source": [
    "Pregunta 12: Resultado del fragmento\n",
    "python\n",
    "Copiar código\n",
    "i = 0\n",
    "while i <= 10:\n",
    "    if i % 2 == 0:\n",
    "        i += 1\n",
    "        continue\n",
    "    i += 1\n",
    "    print(\"*\")\n",
    "Explicación:\n",
    "Se imprimen 5 '*' para los valores impares: 1, 3, 5, 7, 9."
   ]
  },
  {
   "cell_type": "code",
   "execution_count": 42,
   "metadata": {},
   "outputs": [
    {
     "name": "stdout",
     "output_type": "stream",
     "text": [
      "*\n",
      "*\n",
      "*\n",
      "*\n",
      "*\n"
     ]
    }
   ],
   "source": [
    "i = 0\n",
    "while i <= 10:\n",
    "    if i % 2 == 0:\n",
    "        i += 1\n",
    "        continue\n",
    "    i += 1\n",
    "    print(\"*\")"
   ]
  },
  {
   "cell_type": "markdown",
   "metadata": {},
   "source": [
    "Pregunta 13: Valores finales\n",
    "python\n",
    "Copiar código\n",
    "x = 1\n",
    "y = 2\n",
    "z = 3\n",
    "x, y, z = y, z, x\n",
    "print(x, y, z)  # Salida: 2 3 1\n",
    "Explicación:\n",
    "Las variables intercambian valores en una sola línea."
   ]
  },
  {
   "cell_type": "code",
   "execution_count": 43,
   "metadata": {},
   "outputs": [
    {
     "name": "stdout",
     "output_type": "stream",
     "text": [
      "2 3 1\n"
     ]
    }
   ],
   "source": [
    "x = 1\n",
    "y = 2\n",
    "z = 3\n",
    "x, y, z = y, z, x\n",
    "print(x, y, z)  # Salida: 2 3 1"
   ]
  },
  {
   "cell_type": "markdown",
   "metadata": {},
   "source": [
    "Pregunta 14: Código en una sola línea\n",
    "python\n",
    "Copiar código\n",
    "lista = [i * i for i in range(1, 4)]\n",
    "print(lista)  # Salida: [1, 4, 9]\n",
    "Explicación:\n",
    "Se usa una list comprehension para calcular los cuadrados."
   ]
  },
  {
   "cell_type": "code",
   "execution_count": 44,
   "metadata": {},
   "outputs": [
    {
     "name": "stdout",
     "output_type": "stream",
     "text": [
      "[1, 4, 9]\n"
     ]
    }
   ],
   "source": [
    "lista = [i * i for i in range(1, 4)]\n",
    "print(lista)  # Salida: [1, 4, 9]"
   ]
  },
  {
   "cell_type": "markdown",
   "metadata": {},
   "source": [
    "Pregunta 15: Valores devueltos por la función\n",
    "python\n",
    "Copiar código\n",
    "def funcion(x, y=2):\n",
    "    return x * y"
   ]
  },
  {
   "cell_type": "markdown",
   "metadata": {},
   "source": [
    "def funcion(x, y=2): return x * y\n",
    "La función funcion que has mostrado toma dos argumentos, x y y, donde y tiene un valor predeterminado de 2. Esto significa que si no se proporciona un segundo argumento al llamar a la función, y tomará el valor de 2. La función devuelve el producto de x y y."
   ]
  },
  {
   "cell_type": "code",
   "execution_count": 47,
   "metadata": {},
   "outputs": [
    {
     "name": "stdout",
     "output_type": "stream",
     "text": [
      "6\n",
      "9\n"
     ]
    }
   ],
   "source": [
    "\n",
    "def funcion(x, y=2):\n",
    "    return x * y\n",
    "print(funcion(3))     # Salida: 6\n",
    "print(funcion(3, 3))  # Salida: 9"
   ]
  },
  {
   "cell_type": "markdown",
   "metadata": {},
   "source": [
    "\n",
    "\n",
    "\n",
    "\n",
    "Pregunta 16: Resultado de rectangulo\n",
    "python\n",
    "Copiar código\n",
    "\n"
   ]
  },
  {
   "cell_type": "code",
   "execution_count": null,
   "metadata": {},
   "outputs": [
    {
     "name": "stdout",
     "output_type": "stream",
     "text": [
      "(6, 10)\n"
     ]
    }
   ],
   "source": [
    "def rectangulo(base, altura):\n",
    "    area = base * altura\n",
    "    perimetro = 2 * base + 2 * altura\n",
    "    return area, perimetro\n",
    "print(rectangulo(2, 3))  # Salida: (6, 10)"
   ]
  },
  {
   "cell_type": "markdown",
   "metadata": {},
   "source": [
    "Pregunta 17: Comportamiento de la función\n",
    "python\n",
    "Copiar código\n",
    "def funcion(x=0):\n",
    "    return 2 * x\n",
    "Respuesta correcta: c) a y b son correctas."
   ]
  },
  {
   "cell_type": "code",
   "execution_count": 50,
   "metadata": {},
   "outputs": [
    {
     "name": "stdout",
     "output_type": "stream",
     "text": [
      "0\n",
      "6\n"
     ]
    }
   ],
   "source": [
    "def funcion(x=0):\n",
    "    return 2 * x\n",
    "  # Salida: 6\n",
    "print(funcion())  # Salida: 0\n",
    "print(funcion(3))  # Salida: 6"
   ]
  },
  {
   "cell_type": "markdown",
   "metadata": {},
   "source": [
    "Pregunta 18: Salida de la función\n",
    "python\n",
    "Copiar código\n",
    "def funcion(x):\n",
    "    if x % 2 == 0:\n",
    "        return True\n",
    "\n",
    "print(funcion(3))  # Salida: None"
   ]
  },
  {
   "cell_type": "code",
   "execution_count": 51,
   "metadata": {},
   "outputs": [
    {
     "name": "stdout",
     "output_type": "stream",
     "text": [
      "None\n"
     ]
    }
   ],
   "source": [
    "def funcion(x):\n",
    "    if x % 2 == 0:\n",
    "        return True\n",
    "\n",
    "print(funcion(3))  # Salida: None"
   ]
  },
  {
   "cell_type": "markdown",
   "metadata": {},
   "source": [
    "Pregunta 19: Manejo de excepciones\n",
    "python\n",
    "Copiar código\n",
    "try:\n",
    "    x = int(input(\"Escribe un numero: \"))\n",
    "    resultado = 10 / x\n",
    "    print(\"El resultado es: \", resultado)\n",
    "except ZeroDivisionError:\n",
    "    print(\"Division entre cero\")\n",
    "except ValueError:\n",
    "    print(\"Debes escribir un numero\")\n",
    "except Exception:\n",
    "    print(\"Error\")"
   ]
  },
  {
   "cell_type": "code",
   "execution_count": null,
   "metadata": {},
   "outputs": [
    {
     "name": "stdout",
     "output_type": "stream",
     "text": [
      "Debes escribir un numero\n"
     ]
    }
   ],
   "source": [
    "try:\n",
    "    x = int(input(\"Escribe un numero: \"))\n",
    "    resultado = 10 / x\n",
    "    print(\"El resultado es: \", resultado)\n",
    "except ZeroDivisionError:\n",
    "    print(\"Division entre cero\")\n",
    "except ValueError:\n",
    "    print(\"Debes escribir un numero\")\n",
    "except Exception as e:\n",
    "    print(e)"
   ]
  },
  {
   "cell_type": "markdown",
   "metadata": {},
   "source": [
    "Pregunta 20: Bucle con ciudades\n",
    "python\n",
    "Copiar código\n",
    "ciudades = [\"Madrid\", \"Valencia\", \"Barcelona\", \"Sevilla\"]\n",
    "for i, ciudad in enumerate(ciudades):\n",
    "    print(f\"{ciudad} {i}\")\n",
    "Salida:\n",
    "Copiar código\n",
    "Madrid 0\n",
    "Valencia 1\n",
    "Barcelona 2\n",
    "Sevilla 3"
   ]
  },
  {
   "cell_type": "code",
   "execution_count": 56,
   "metadata": {},
   "outputs": [
    {
     "name": "stdout",
     "output_type": "stream",
     "text": [
      "Madrid 0\n",
      "Valencia 1\n",
      "Barcelona 2\n",
      "Sevilla 3\n"
     ]
    }
   ],
   "source": [
    "ciudades = [\"Madrid\", \"Valencia\", \"Barcelona\", \"Sevilla\"]\n",
    "for i, ciudad in enumerate(ciudades):\n",
    "    print(f\"{ciudad} {i}\")"
   ]
  },
  {
   "cell_type": "markdown",
   "metadata": {},
   "source": [
    "21. ¿Qué se imprime por pantalla al ejecutar el siguiente fragmento de código?\n",
    "cadena = \"Hola Mundo\"\n",
    "cadena.replace(\"Mundo\", \"Python\")\n",
    "print(cadena)\n",
    "la cadena no cambia de valor solo apunta a ella.\n"
   ]
  },
  {
   "cell_type": "code",
   "execution_count": null,
   "metadata": {},
   "outputs": [],
   "source": []
  },
  {
   "cell_type": "code",
   "execution_count": 57,
   "metadata": {},
   "outputs": [
    {
     "name": "stdout",
     "output_type": "stream",
     "text": [
      "Hola Mundo\n"
     ]
    }
   ],
   "source": [
    "cadena = \"Hola Mundo\"\n",
    "cadena.replace(\"Mundo\", \"Python\")\n",
    "print(cadena)"
   ]
  },
  {
   "cell_type": "markdown",
   "metadata": {},
   "source": [
    "22. ¿Qué se imprime por pantalla al ejecutar el siguiente fragmento de código?\n",
    "ciudades = (\"Madrid\", \"Valencia\", \"Barcelona\", \"Sevilla\") del ciudades[0]\n",
    "print(ciudades) Es una tupla no se puede modificar son inmutables"
   ]
  },
  {
   "cell_type": "code",
   "execution_count": null,
   "metadata": {},
   "outputs": [
    {
     "name": "stdout",
     "output_type": "stream",
     "text": [
      "('Madrid', 'Valencia', 'Barcelona', 'Sevilla')\n",
      "['Madrid', 'Valencia', 'Barcelona', 'Sevilla']\n",
      "Madrid 0\n"
     ]
    },
    {
     "ename": "NameError",
     "evalue": "name 'append' is not defined",
     "output_type": "error",
     "traceback": [
      "\u001b[1;31m---------------------------------------------------------------------------\u001b[0m",
      "\u001b[1;31mNameError\u001b[0m                                 Traceback (most recent call last)",
      "Cell \u001b[1;32mIn[69], line 10\u001b[0m\n\u001b[0;32m      8\u001b[0m     \u001b[38;5;28;01mif\u001b[39;00m i \u001b[38;5;241m==\u001b[39m \u001b[38;5;241m0\u001b[39m:\n\u001b[0;32m      9\u001b[0m         \u001b[38;5;28;01mdel\u001b[39;00m lista_ciudades[i]\n\u001b[1;32m---> 10\u001b[0m         ciudades \u001b[38;5;241m=\u001b[39m \u001b[43mappend\u001b[49m\u001b[38;5;241m.\u001b[39mTuple(lista_ciudades)\n\u001b[0;32m     11\u001b[0m         \u001b[38;5;28mprint\u001b[39m(ciudades)\n\u001b[0;32m     12\u001b[0m ciudades \u001b[38;5;241m=\u001b[39m \u001b[38;5;28mtuple\u001b[39m(lista_ciudades)\n",
      "\u001b[1;31mNameError\u001b[0m: name 'append' is not defined"
     ]
    }
   ],
   "source": [
    "ciudades = (\"Madrid\", \"Valencia\", \"Barcelona\", \"Sevilla\") \n",
    "# del ciudades[0]\n",
    "print(ciudades)\n",
    "lista_ciudades = list(ciudades)\n",
    "print(lista_ciudades)\n",
    "for i in range(len(ciudades)):\n",
    "    print(f\"{ciudades[i]} {i}\")\n",
    "    if i == 0:\n",
    "        del lista_ciudades[i]\n",
    "ciudades = tuple(lista_ciudades)\n",
    "print(ciudades)\n",
    "\n"
   ]
  },
  {
   "cell_type": "code",
   "execution_count": null,
   "metadata": {},
   "outputs": [
    {
     "name": "stdout",
     "output_type": "stream",
     "text": [
      "Tupla original: ('Madrid', 'Valencia', 'Barcelona', 'Sevilla')\n",
      "Lista convertida: ['Madrid', 'Valencia', 'Barcelona', 'Sevilla']\n",
      "Madrid 0\n",
      "Valencia 1\n",
      "Barcelona 2\n",
      "Sevilla 3\n",
      "Lista después de modificaciones: ['Valencia', 'Barcelona', 'Sevilla', 'Madrid']\n",
      "Tupla después de modificaciones: ('Valencia', 'Barcelona', 'Sevilla', 'Madrid')\n"
     ]
    }
   ],
   "source": [
    "# Si tenemos una tupla podemos convertirla a lista usando la función list().\n",
    "\n",
    "# Tupla original\n",
    "ciudades = (\"Madrid\", \"Valencia\", \"Barcelona\", \"Sevilla\")\n",
    "print(\"Tupla original:\", ciudades)\n",
    "\n",
    "# Convertir tupla a lista\n",
    "lista_ciudades = list(ciudades)\n",
    "print(\"Lista convertida:\", lista_ciudades)\n",
    "\n",
    "# Imprimir elementos con sus índices usando `index`\n",
    "for ciudad in ciudades:\n",
    "    index = lista_ciudades.index(ciudad)\n",
    "    print(f\"{ciudad} {index}\")\n",
    "\n",
    "# Eliminar el primer elemento (índice 0) usando `index`\n",
    "index_madrid = lista_ciudades.index(\"Madrid\")\n",
    "del lista_ciudades[index_madrid]\n",
    "# o se peude hacer del mismo modo\n",
    "# del lista_ciudades[0] en el ciclo for anterior\n",
    "\n",
    "# Agregar \"Madrid\" al final de la lista usando extend\n",
    "lista_ciudades.extend([\"Madrid\"])\n",
    "print(\"Lista usando extend agrega elementos al final:\", lista_ciudades)\n",
    "\n",
    "# Convertir de nuevo a tupla\n",
    "ciudades = tuple(lista_ciudades)\n",
    "print(\"Tupla después de modificaciones:\", ciudades)\n"
   ]
  }
 ],
 "metadata": {
  "kernelspec": {
   "display_name": "Python 3",
   "language": "python",
   "name": "python3"
  },
  "language_info": {
   "codemirror_mode": {
    "name": "ipython",
    "version": 3
   },
   "file_extension": ".py",
   "mimetype": "text/x-python",
   "name": "python",
   "nbconvert_exporter": "python",
   "pygments_lexer": "ipython3",
   "version": "3.13.1"
  }
 },
 "nbformat": 4,
 "nbformat_minor": 2
}
